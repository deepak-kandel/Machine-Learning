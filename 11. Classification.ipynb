{
 "metadata": {
  "name": ""
 },
 "nbformat": 3,
 "nbformat_minor": 0,
 "worksheets": [
  {
   "cells": [
    {
     "cell_type": "markdown",
     "metadata": {},
     "source": [
      "## 1. kNN"
     ]
    },
    {
     "cell_type": "code",
     "collapsed": false,
     "input": [
      "import pandas as pd\n",
      "from sklearn.cross_validation import train_test_split\n",
      "\n",
      "wine_data = pd.read_csv('data/classify_wine.csv')\n",
      "wine_data.head()"
     ],
     "language": "python",
     "metadata": {},
     "outputs": [
      {
       "html": [
        "<div style=\"max-width:1500px;overflow:auto;\">\n",
        "<table border=\"1\" class=\"dataframe\">\n",
        "  <thead>\n",
        "    <tr style=\"text-align: right;\">\n",
        "      <th></th>\n",
        "      <th>abv</th>\n",
        "      <th>malic_acid</th>\n",
        "      <th>ash</th>\n",
        "      <th>alcalinity</th>\n",
        "      <th>magnesium</th>\n",
        "      <th>total_phenols</th>\n",
        "      <th>flavanoids</th>\n",
        "      <th>nonflavanoid_phenols</th>\n",
        "      <th>proanthocyacins</th>\n",
        "      <th>color</th>\n",
        "      <th>hue</th>\n",
        "      <th>dilution</th>\n",
        "      <th>proline</th>\n",
        "      <th>wine_type</th>\n",
        "    </tr>\n",
        "  </thead>\n",
        "  <tbody>\n",
        "    <tr>\n",
        "      <th>0</th>\n",
        "      <td>14.23</td>\n",
        "      <td>1.71</td>\n",
        "      <td>2.43</td>\n",
        "      <td>15.6</td>\n",
        "      <td>127</td>\n",
        "      <td>2.80</td>\n",
        "      <td>3.06</td>\n",
        "      <td>0.28</td>\n",
        "      <td>2.29</td>\n",
        "      <td>5.64</td>\n",
        "      <td>1.04</td>\n",
        "      <td>3.92</td>\n",
        "      <td>1065</td>\n",
        "      <td>1</td>\n",
        "    </tr>\n",
        "    <tr>\n",
        "      <th>1</th>\n",
        "      <td>13.20</td>\n",
        "      <td>1.78</td>\n",
        "      <td>2.14</td>\n",
        "      <td>11.2</td>\n",
        "      <td>100</td>\n",
        "      <td>2.65</td>\n",
        "      <td>2.76</td>\n",
        "      <td>0.26</td>\n",
        "      <td>1.28</td>\n",
        "      <td>4.38</td>\n",
        "      <td>1.05</td>\n",
        "      <td>3.40</td>\n",
        "      <td>1050</td>\n",
        "      <td>1</td>\n",
        "    </tr>\n",
        "    <tr>\n",
        "      <th>2</th>\n",
        "      <td>13.16</td>\n",
        "      <td>2.36</td>\n",
        "      <td>2.67</td>\n",
        "      <td>18.6</td>\n",
        "      <td>101</td>\n",
        "      <td>2.80</td>\n",
        "      <td>3.24</td>\n",
        "      <td>0.30</td>\n",
        "      <td>2.81</td>\n",
        "      <td>5.68</td>\n",
        "      <td>1.03</td>\n",
        "      <td>3.17</td>\n",
        "      <td>1185</td>\n",
        "      <td>1</td>\n",
        "    </tr>\n",
        "    <tr>\n",
        "      <th>3</th>\n",
        "      <td>14.37</td>\n",
        "      <td>1.95</td>\n",
        "      <td>2.50</td>\n",
        "      <td>16.8</td>\n",
        "      <td>113</td>\n",
        "      <td>3.85</td>\n",
        "      <td>3.49</td>\n",
        "      <td>0.24</td>\n",
        "      <td>2.18</td>\n",
        "      <td>7.80</td>\n",
        "      <td>0.86</td>\n",
        "      <td>3.45</td>\n",
        "      <td>1480</td>\n",
        "      <td>1</td>\n",
        "    </tr>\n",
        "    <tr>\n",
        "      <th>4</th>\n",
        "      <td>13.24</td>\n",
        "      <td>2.59</td>\n",
        "      <td>2.87</td>\n",
        "      <td>21.0</td>\n",
        "      <td>118</td>\n",
        "      <td>2.80</td>\n",
        "      <td>2.69</td>\n",
        "      <td>0.39</td>\n",
        "      <td>1.82</td>\n",
        "      <td>4.32</td>\n",
        "      <td>1.04</td>\n",
        "      <td>2.93</td>\n",
        "      <td>735</td>\n",
        "      <td>1</td>\n",
        "    </tr>\n",
        "  </tbody>\n",
        "</table>\n",
        "</div>"
       ],
       "metadata": {},
       "output_type": "pyout",
       "prompt_number": 1,
       "text": [
        "     abv  malic_acid   ash  alcalinity  magnesium  total_phenols  flavanoids  \\\n",
        "0  14.23        1.71  2.43        15.6        127           2.80        3.06   \n",
        "1  13.20        1.78  2.14        11.2        100           2.65        2.76   \n",
        "2  13.16        2.36  2.67        18.6        101           2.80        3.24   \n",
        "3  14.37        1.95  2.50        16.8        113           3.85        3.49   \n",
        "4  13.24        2.59  2.87        21.0        118           2.80        2.69   \n",
        "\n",
        "   nonflavanoid_phenols  proanthocyacins  color   hue  dilution  proline  \\\n",
        "0                  0.28             2.29   5.64  1.04      3.92     1065   \n",
        "1                  0.26             1.28   4.38  1.05      3.40     1050   \n",
        "2                  0.30             2.81   5.68  1.03      3.17     1185   \n",
        "3                  0.24             2.18   7.80  0.86      3.45     1480   \n",
        "4                  0.39             1.82   4.32  1.04      2.93      735   \n",
        "\n",
        "   wine_type  \n",
        "0          1  \n",
        "1          1  \n",
        "2          1  \n",
        "3          1  \n",
        "4          1  "
       ]
      }
     ],
     "prompt_number": 1
    },
    {
     "cell_type": "code",
     "collapsed": false,
     "input": [
      "# look at the dataframe. The class/labels are at the end column and other variables are explanatory varialbes.\n",
      "\n",
      "X = wine_data[list(wine_data.columns)[:-1]]\n",
      "y = wine_data['wine_type']\n",
      "print 'explanatory variables'\n",
      "print X.head()\n",
      "print '\\n\\n'\n",
      "print 'labels'\n",
      "print y.head()"
     ],
     "language": "python",
     "metadata": {},
     "outputs": [
      {
       "output_type": "stream",
       "stream": "stdout",
       "text": [
        "explanatory variables\n",
        "     abv  malic_acid   ash  alcalinity  magnesium  total_phenols  flavanoids  \\\n",
        "0  14.23        1.71  2.43        15.6        127           2.80        3.06   \n",
        "1  13.20        1.78  2.14        11.2        100           2.65        2.76   \n",
        "2  13.16        2.36  2.67        18.6        101           2.80        3.24   \n",
        "3  14.37        1.95  2.50        16.8        113           3.85        3.49   \n",
        "4  13.24        2.59  2.87        21.0        118           2.80        2.69   \n",
        "\n",
        "   nonflavanoid_phenols  proanthocyacins  color   hue  dilution  proline  \n",
        "0                  0.28             2.29   5.64  1.04      3.92     1065  \n",
        "1                  0.26             1.28   4.38  1.05      3.40     1050  \n",
        "2                  0.30             2.81   5.68  1.03      3.17     1185  \n",
        "3                  0.24             2.18   7.80  0.86      3.45     1480  \n",
        "4                  0.39             1.82   4.32  1.04      2.93      735  \n",
        "\n",
        "\n",
        "\n",
        "labels\n",
        "0    1\n",
        "1    1\n",
        "2    1\n",
        "3    1\n",
        "4    1\n",
        "Name: wine_type, dtype: int64\n"
       ]
      }
     ],
     "prompt_number": 6
    },
    {
     "cell_type": "markdown",
     "metadata": {},
     "source": [
      "### Let's fit kNN to our training data."
     ]
    },
    {
     "cell_type": "code",
     "collapsed": false,
     "input": [
      "X_train, X_test, y_train, y_test = train_test_split(X, y)\n",
      "\n",
      "from sklearn.neighbors import KNeighborsClassifier\n",
      "\n",
      "knn = KNeighborsClassifier()\n",
      "knn.fit(X_train, y_train)"
     ],
     "language": "python",
     "metadata": {},
     "outputs": [
      {
       "metadata": {},
       "output_type": "pyout",
       "prompt_number": 7,
       "text": [
        "KNeighborsClassifier(algorithm='auto', leaf_size=30, metric='minkowski',\n",
        "           metric_params=None, n_jobs=1, n_neighbors=5, p=2,\n",
        "           weights='uniform')"
       ]
      }
     ],
     "prompt_number": 7
    },
    {
     "cell_type": "markdown",
     "metadata": {},
     "source": [
      "### Predict new data on using our Model"
     ]
    },
    {
     "cell_type": "code",
     "collapsed": false,
     "input": [
      "knn.predict(X_test)"
     ],
     "language": "python",
     "metadata": {},
     "outputs": [
      {
       "metadata": {},
       "output_type": "pyout",
       "prompt_number": 8,
       "text": [
        "array([3, 2, 3, 2, 1, 3, 1, 1, 1, 1, 1, 2, 2, 2, 2, 2, 3, 1, 1, 2, 1, 2, 2,\n",
        "       2, 2, 2, 2, 2, 2, 2, 2, 1, 3, 3, 2, 3, 1, 1, 1, 2, 1, 2, 2, 2, 1])"
       ]
      }
     ],
     "prompt_number": 8
    },
    {
     "cell_type": "markdown",
     "metadata": {},
     "source": [
      "### Let's print the real values"
     ]
    },
    {
     "cell_type": "code",
     "collapsed": false,
     "input": [
      "y_test.values"
     ],
     "language": "python",
     "metadata": {},
     "outputs": [
      {
       "metadata": {},
       "output_type": "pyout",
       "prompt_number": 14,
       "text": [
        "array([2, 2, 2, 3, 2, 3, 1, 1, 1, 1, 1, 2, 2, 3, 2, 1, 3, 1, 2, 3, 1, 3, 2,\n",
        "       2, 3, 2, 3, 2, 3, 2, 2, 1, 3, 3, 2, 2, 1, 1, 1, 2, 1, 2, 2, 3, 1])"
       ]
      }
     ],
     "prompt_number": 14
    },
    {
     "cell_type": "markdown",
     "metadata": {},
     "source": [
      "### We see the difference between real values and our predictions.\n",
      "#### How to check accuracy of our Model?\n",
      "#### We use cross validation : Cross-validation takes a dataset, randomly splits it into training and test sets and compute the accuracy.\n",
      "#### Paramtere 'cv' denotes number of times you want to run the validation"
     ]
    },
    {
     "cell_type": "code",
     "collapsed": false,
     "input": [
      "from sklearn.cross_validation import cross_val_score\n",
      "\n",
      "cross_val_score(knn, X, y, cv=5)"
     ],
     "language": "python",
     "metadata": {},
     "outputs": [
      {
       "metadata": {},
       "output_type": "pyout",
       "prompt_number": 15,
       "text": [
        "array([ 0.7027027 ,  0.66666667,  0.63888889,  0.65714286,  0.76470588])"
       ]
      }
     ],
     "prompt_number": 15
    },
    {
     "cell_type": "markdown",
     "metadata": {},
     "source": [
      "### Our model seems 60-70 % Accurate."
     ]
    },
    {
     "cell_type": "markdown",
     "metadata": {},
     "source": [
      "## 2. Decision Tree"
     ]
    },
    {
     "cell_type": "code",
     "collapsed": false,
     "input": [
      "from sklearn.tree import DecisionTreeClassifier\n",
      "\n",
      "tree_model = DecisionTreeClassifier()\n",
      "tree_model.fit(X_train, y_train)\n",
      "tree_model.predict(X_test)"
     ],
     "language": "python",
     "metadata": {},
     "outputs": [
      {
       "metadata": {},
       "output_type": "pyout",
       "prompt_number": 22,
       "text": [
        "array([2, 2, 2, 3, 2, 3, 1, 1, 1, 1, 1, 2, 2, 3, 2, 1, 3, 1, 1, 3, 1, 3, 2,\n",
        "       2, 3, 2, 3, 2, 3, 2, 2, 1, 3, 3, 2, 2, 1, 1, 1, 2, 1, 2, 2, 3, 1])"
       ]
      }
     ],
     "prompt_number": 22
    },
    {
     "cell_type": "code",
     "collapsed": false,
     "input": [
      "y_test.values"
     ],
     "language": "python",
     "metadata": {},
     "outputs": [
      {
       "metadata": {},
       "output_type": "pyout",
       "prompt_number": 23,
       "text": [
        "array([2, 2, 2, 3, 2, 3, 1, 1, 1, 1, 1, 2, 2, 3, 2, 1, 3, 1, 2, 3, 1, 3, 2,\n",
        "       2, 3, 2, 3, 2, 3, 2, 2, 1, 3, 3, 2, 2, 1, 1, 1, 2, 1, 2, 2, 3, 1])"
       ]
      }
     ],
     "prompt_number": 23
    },
    {
     "cell_type": "code",
     "collapsed": false,
     "input": [
      "cross_val_score(tree_model, X, y, cv=4)"
     ],
     "language": "python",
     "metadata": {},
     "outputs": [
      {
       "metadata": {},
       "output_type": "pyout",
       "prompt_number": 24,
       "text": [
        "array([ 0.82222222,  0.86666667,  0.88888889,  0.88372093])"
       ]
      }
     ],
     "prompt_number": 24
    },
    {
     "cell_type": "markdown",
     "metadata": {},
     "source": [
      "### Look Decision tree gives more accuracy ( 88% ) which is higher than k - Neariest Neighbors"
     ]
    },
    {
     "cell_type": "markdown",
     "metadata": {},
     "source": [
      "### Let's look at the tree"
     ]
    },
    {
     "cell_type": "code",
     "collapsed": false,
     "input": [
      "from sklearn import tree"
     ],
     "language": "python",
     "metadata": {},
     "outputs": [],
     "prompt_number": 21
    },
    {
     "cell_type": "code",
     "collapsed": false,
     "input": [
      "# use command 'dot -Tpng tree.dot > output.png' to convert .dot to .png file.\n",
      "tree.export_graphviz(tree_model,out_file='tree.dot')  \n"
     ],
     "language": "python",
     "metadata": {},
     "outputs": [],
     "prompt_number": 27
    },
    {
     "cell_type": "markdown",
     "metadata": {},
     "source": [
      "## 3. Naive Bayes"
     ]
    },
    {
     "cell_type": "code",
     "collapsed": false,
     "input": [
      "from sklearn.naive_bayes import GaussianNB\n",
      "\n",
      "naive_model = GaussianNB()\n",
      "naive_model.fit(X_train, y_train)\n",
      "naive_model.predict(X_test)"
     ],
     "language": "python",
     "metadata": {},
     "outputs": [
      {
       "metadata": {},
       "output_type": "pyout",
       "prompt_number": 31,
       "text": [
        "array([2, 2, 2, 3, 2, 3, 1, 1, 1, 1, 1, 2, 2, 3, 2, 1, 3, 1, 2, 3, 1, 3, 2,\n",
        "       2, 3, 2, 3, 2, 3, 2, 2, 2, 3, 3, 2, 2, 1, 1, 1, 2, 1, 2, 2, 3, 1])"
       ]
      }
     ],
     "prompt_number": 31
    },
    {
     "cell_type": "code",
     "collapsed": false,
     "input": [
      "y_test.values"
     ],
     "language": "python",
     "metadata": {},
     "outputs": [
      {
       "metadata": {},
       "output_type": "pyout",
       "prompt_number": 32,
       "text": [
        "array([2, 2, 2, 3, 2, 3, 1, 1, 1, 1, 1, 2, 2, 3, 2, 1, 3, 1, 2, 3, 1, 3, 2,\n",
        "       2, 3, 2, 3, 2, 3, 2, 2, 1, 3, 3, 2, 2, 1, 1, 1, 2, 1, 2, 2, 3, 1])"
       ]
      }
     ],
     "prompt_number": 32
    },
    {
     "cell_type": "code",
     "collapsed": false,
     "input": [
      "cross_val_score(naive_model, X, y, cv=4)\n"
     ],
     "language": "python",
     "metadata": {},
     "outputs": [
      {
       "metadata": {},
       "output_type": "pyout",
       "prompt_number": 33,
       "text": [
        "array([ 0.91111111,  0.95555556,  0.97777778,  1.        ])"
       ]
      }
     ],
     "prompt_number": 33
    },
    {
     "cell_type": "markdown",
     "metadata": {},
     "source": [
      "### Look almost 100% Accuracy on our prediction"
     ]
    },
    {
     "cell_type": "code",
     "collapsed": false,
     "input": [],
     "language": "python",
     "metadata": {},
     "outputs": []
    }
   ],
   "metadata": {}
  }
 ]
}