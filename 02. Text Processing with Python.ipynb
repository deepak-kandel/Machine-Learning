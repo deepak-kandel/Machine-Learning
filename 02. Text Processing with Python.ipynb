{
 "cells": [
  {
   "cell_type": "markdown",
   "metadata": {},
   "source": [
    "##### When we talk about text processing, basically following operations/tasks come into play\n",
    "\n",
    "    1. string operations, \n",
    "    2. dealing with regular expressions, \n",
    "    3. and writing parser\n",
    "\n",
    "##### Before starting operations on string elements, we need to be assure that the strings or texts are in the right format. So what are right formats of texts?\n",
    "  *If we have to process HTML files, are those files are text files?*\n",
    "  \n",
    "  *If we have to process XML files, are those are text files?*\n",
    "\n",
    "##### We do have abundance sources of text files around us but we can't apply any operations without making them suitable for processing.\n",
    "\n"
   ]
  },
  {
   "cell_type": "markdown",
   "metadata": {},
   "source": [
    "#### What is TEXT ?\n",
    "\n",
    "##### TEXT is simply a combination of strings. So, we can relate text processing with string processing in implementation level. Those strings are never be in plain format. There may different separators within those strings like : commas (,), quotations ('), dots(.) or simple spaces( ). "
   ]
  },
  {
   "cell_type": "markdown",
   "metadata": {},
   "source": [
    "#### Why TEXT processing?\n",
    "\n",
    "##### Most of data that comes to you from different business applications are in primarily in text with different symbols attached to them. Like Log files, error files, configuration files and even your browseing data are sequece of formatted words/strings.\n"
   ]
  },
  {
   "cell_type": "markdown",
   "metadata": {},
   "source": [
    "#### Why TEXT processing with Python?\n",
    "\n",
    "##### Python has become a general-propose programming language these days. If you have proper knowledge in the Python's string module and string methods along with Python's basic data structures you can do most of your text processing tasks."
   ]
  },
  {
   "cell_type": "markdown",
   "metadata": {},
   "source": [
    "#### Regular Expression"
   ]
  },
  {
   "cell_type": "markdown",
   "metadata": {},
   "source": [
    "##### While dealing with text you may encounter with complex patterns. Regular expression is considered as one of good techniques to solve these problems. "
   ]
  },
  {
   "cell_type": "markdown",
   "metadata": {},
   "source": [
    "##### EXAMPLE 1. \n",
    "###### Let's find out the patterns from following text : \n",
    "\n",
    "    'Sijan is a good boy. Sijan has completed his engineering from pulchowk engineering college'. Sijan works for startup.'"
   ]
  },
  {
   "cell_type": "code",
   "execution_count": 3,
   "metadata": {},
   "outputs": [
    {
     "data": {
      "text/plain": [
       "\" \\n           my name is Deepak\\n           [Sijan] is a good boy. \\n           [Sijan] has completed his engineering from pulchowk engineering college'. \\n           [Sijan] works for startup.\\n          \""
      ]
     },
     "execution_count": 3,
     "metadata": {},
     "output_type": "execute_result"
    }
   ],
   "source": [
    "import re\n",
    "\n",
    "my_text = ''' \n",
    "           my name is Deepak\n",
    "           Sijan is a good boy. \n",
    "           Sijan has completed his engineering from pulchowk engineering college'. \n",
    "           Sijan works for startup.\n",
    "          '''\n",
    "## Let's find occurrence of 'Sijan'\n",
    "check_sijan = re.sub('Sijan', '['+'Sijan'+']', my_text)\n",
    "check_sijan"
   ]
  },
  {
   "cell_type": "markdown",
   "metadata": {},
   "source": [
    "##### In the above example. We can find 3 occurence of a word 'Sijan'."
   ]
  },
  {
   "cell_type": "markdown",
   "metadata": {},
   "source": [
    "#### Let's define function and manipulate other text inputs:"
   ]
  },
  {
   "cell_type": "code",
   "execution_count": 5,
   "metadata": {},
   "outputs": [],
   "source": [
    "import re\n",
    "\n",
    "def check_occur(pattern, text):\n",
    "    return re.sub(pattern, '['+ pattern + ']', text)"
   ]
  },
  {
   "cell_type": "code",
   "execution_count": 8,
   "metadata": {},
   "outputs": [
    {
     "name": "stdout",
     "output_type": "stream",
     "text": [
      "\n",
      "            A [science] is defined as a systematic knowledge derived from observation,study, and\n",
      "            experimentation. A few examples of [science]s can be cited such as Physics, Chemistry,\n",
      "            Zoology, Geology, etc.\n",
      "            \n"
     ]
    }
   ],
   "source": [
    "my_text1 = '''\n",
    "            A science is defined as a systematic knowledge derived from observation,study, and\n",
    "            experimentation. A few examples of sciences can be cited such as Physics, Chemistry,\n",
    "            Zoology, Geology, etc.\n",
    "            '''\n",
    "print (check_occur('science', my_text1)) ## This should give two occurence of 'science' word."
   ]
  },
  {
   "cell_type": "code",
   "execution_count": 6,
   "metadata": {
    "collapsed": true
   },
   "outputs": [
    {
     "name": "stdout",
     "output_type": "stream",
     "text": [
      "\n",
      "            A economics is defined as a systematic knowledge derived from observation,study, and\n",
      "            experimentation. A few examples of economicss can be cited such as Physics, Chemistry,\n",
      "            Zoology, Geology, etc.\n",
      "            \n"
     ]
    }
   ],
   "source": [
    "## Now, let's replace some of the words with regular expression. Here, we replace 'science' with 'economics'\n",
    "\n",
    "new_text1 = re.sub('science', 'economics', my_text1)\n",
    "print new_text1)"
   ]
  },
  {
   "cell_type": "code",
   "execution_count": null,
   "metadata": {},
   "outputs": [],
   "source": []
  }
 ],
 "metadata": {
  "kernelspec": {
   "display_name": "Python 3",
   "language": "python",
   "name": "python3"
  },
  "language_info": {
   "codemirror_mode": {
    "name": "ipython",
    "version": 3
   },
   "file_extension": ".py",
   "mimetype": "text/x-python",
   "name": "python",
   "nbconvert_exporter": "python",
   "pygments_lexer": "ipython3",
   "version": "3.6.3"
  }
 },
 "nbformat": 4,
 "nbformat_minor": 1
}
