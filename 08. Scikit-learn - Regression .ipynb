{
 "metadata": {
  "name": ""
 },
 "nbformat": 3,
 "nbformat_minor": 0,
 "worksheets": [
  {
   "cells": [
    {
     "cell_type": "markdown",
     "metadata": {},
     "source": [
      "### Regression Analysis\n",
      "\n",
      "#### 1. Regression analysis is carried out for continuous data\n",
      "#### 2. It gives a relationship between response variable and other features\n",
      "#### 3. For example : expenditure = autonomous expenditure + a \\* income + b \\* family_size \n",
      "\n",
      "### In our dataset, we are going to see if there exists any relationship between 'Salary' and ['CollegeGPA', 'Degree', 'Specialization',....]"
     ]
    },
    {
     "cell_type": "code",
     "collapsed": false,
     "input": [
      "# NumPy and pandas\n",
      "import numpy as np\n",
      "import pandas as pd\n",
      "\n",
      "# Set some pandas options for controlling output display\n",
      "pd.set_option('display.notebook_repr_html', False) # When True, IPython notebook will use html representation for pandas objects\n",
      "pd.set_option('display.max_columns', 10) # If max_columns is exceeded, switch to truncate view.\n",
      "pd.set_option('display.max_rows', 10) # If max_rows is exceeded, switch to truncate view.\n",
      "\n",
      "import matplotlib.pyplot as plt\n",
      "\n",
      "# this allows plots to appear directly in the notebook\n",
      "%matplotlib inline"
     ],
     "language": "python",
     "metadata": {},
     "outputs": [],
     "prompt_number": 1
    },
    {
     "cell_type": "code",
     "collapsed": false,
     "input": [
      "labour_data = pd.read_csv('data/data.csv')"
     ],
     "language": "python",
     "metadata": {},
     "outputs": [],
     "prompt_number": 2
    },
    {
     "cell_type": "code",
     "collapsed": false,
     "input": [
      "labour_data.columns"
     ],
     "language": "python",
     "metadata": {},
     "outputs": [
      {
       "metadata": {},
       "output_type": "pyout",
       "prompt_number": 3,
       "text": [
        "Index([u'Unnamed: 0', u'ID', u'Salary', u'DOJ', u'DOL', u'Designation',\n",
        "       u'JobCity', u'Gender', u'DOB', u'10percentage', u'10board',\n",
        "       u'12graduation', u'12percentage', u'12board', u'CollegeID',\n",
        "       u'CollegeTier', u'Degree', u'Specialization', u'collegeGPA',\n",
        "       u'CollegeCityID', u'CollegeCityTier', u'CollegeState',\n",
        "       u'GraduationYear', u'English', u'Logical', u'Quant', u'Domain',\n",
        "       u'ComputerProgramming', u'ElectronicsAndSemicon', u'ComputerScience',\n",
        "       u'MechanicalEngg', u'ElectricalEngg', u'TelecomEngg', u'CivilEngg',\n",
        "       u'conscientiousness', u'agreeableness', u'extraversion', u'nueroticism',\n",
        "       u'openess_to_experience'],\n",
        "      dtype='object')"
       ]
      }
     ],
     "prompt_number": 3
    },
    {
     "cell_type": "markdown",
     "metadata": {},
     "source": [
      "## Linear Regression with single independent variable\n",
      "\n",
      "#### 1. We take collegeGPA as an independent variable and salary as a dependent variable.\n",
      "#### 2. We split the data into training and testing data sets\n",
      "#### 3. We fit the data using sklearn LinearRegression"
     ]
    },
    {
     "cell_type": "code",
     "collapsed": false,
     "input": [
      "from sklearn.cross_validation import train_test_split\n",
      "from sklearn.linear_model import LinearRegression\n",
      "\n",
      "# Use only one feature : CollegeGPA\n",
      "# labour_data_gpa = labour_data.loc[:, ['collegeGPA']] or labour_data[['collegeGPA']]\n",
      "labour_data_gpa = labour_data[['collegeGPA']]\n",
      "# salary as a dependent variable\n",
      "# labour_data_salary = labour_data.loc[:, 'Salary']\n",
      "labour_data_salary = labour_data[['Salary']]\n",
      "# Split the data into training/testing sets\n",
      "gpa_train, gpa_test, salary_train, salary_test = train_test_split(labour_data_gpa, labour_data_salary)\n",
      "\n",
      "# Create linear regression object\n",
      "regression = LinearRegression(fit_intercept = True)\n",
      "\n",
      "# Train the model using the training sets (first parameter is x )\n",
      "regression.fit(gpa_train, salary_train)\n",
      "# salary_X_train.size, salary_Y_train.size"
     ],
     "language": "python",
     "metadata": {},
     "outputs": [
      {
       "metadata": {},
       "output_type": "pyout",
       "prompt_number": 4,
       "text": [
        "LinearRegression(copy_X=True, fit_intercept=True, n_jobs=1, normalize=False)"
       ]
      }
     ],
     "prompt_number": 4
    },
    {
     "cell_type": "code",
     "collapsed": false,
     "input": [],
     "language": "python",
     "metadata": {},
     "outputs": [],
     "prompt_number": 44
    },
    {
     "cell_type": "markdown",
     "metadata": {},
     "source": [
      "### What are the coefficients ?"
     ]
    },
    {
     "cell_type": "code",
     "collapsed": false,
     "input": [
      "regression.coef_, regression.intercept_"
     ],
     "language": "python",
     "metadata": {},
     "outputs": [
      {
       "metadata": {},
       "output_type": "pyout",
       "prompt_number": 23,
       "text": [
        "(array([[ 3265.71277178]]), array([ 72446.25750743]))"
       ]
      }
     ],
     "prompt_number": 23
    },
    {
     "cell_type": "markdown",
     "metadata": {},
     "source": [
      "### Let's predict the salary"
     ]
    },
    {
     "cell_type": "code",
     "collapsed": false,
     "input": [
      "salary_predict = regression.predict(gpa_test)\n",
      "salary_predict[:10]\n"
     ],
     "language": "python",
     "metadata": {},
     "outputs": [
      {
       "metadata": {},
       "output_type": "pyout",
       "prompt_number": 46,
       "text": [
        "array([[ 327171.8537062 ],\n",
        "       [ 301046.15153196],\n",
        "       [ 294841.29726558],\n",
        "       [ 296376.18226832],\n",
        "       [ 291249.01321663],\n",
        "       [ 327171.8537062 ],\n",
        "       [ 287656.72916767],\n",
        "       [ 294514.72598841],\n",
        "       [ 320640.42816264],\n",
        "       [ 319007.57177675]])"
       ]
      }
     ],
     "prompt_number": 46
    },
    {
     "cell_type": "markdown",
     "metadata": {},
     "source": [
      "### Compare the predicted value with the actual value of salary"
     ]
    },
    {
     "cell_type": "code",
     "collapsed": false,
     "input": [
      "salary_test\n"
     ],
     "language": "python",
     "metadata": {},
     "outputs": [
      {
       "metadata": {},
       "output_type": "pyout",
       "prompt_number": 45,
       "text": [
        "      Salary\n",
        "2159  340000\n",
        "2418  140000\n",
        "3160  450000\n",
        "3567  115000\n",
        "2506  200000\n",
        "...      ...\n",
        "2707  300000\n",
        "3881  600000\n",
        "229   320000\n",
        "3492   95000\n",
        "1345  460000\n",
        "\n",
        "[1000 rows x 1 columns]"
       ]
      }
     ],
     "prompt_number": 45
    },
    {
     "cell_type": "code",
     "collapsed": false,
     "input": [
      "# first, plot the observed data\n",
      "labour_data.plot(kind='scatter', x='collegeGPA', y='Salary')\n",
      "\n",
      "# then, plot the least squares line\n",
      "plt.plot(gpa_test, salary_predict, c='red', linewidth=2)\n",
      "\n"
     ],
     "language": "python",
     "metadata": {},
     "outputs": [
      {
       "metadata": {},
       "output_type": "pyout",
       "prompt_number": 44,
       "text": [
        "[<matplotlib.lines.Line2D at 0x7f953acc8d90>]"
       ]
      },
      {
       "metadata": {},
       "output_type": "display_data",
       "png": "[encoded data removed]",
       "text": [
        "<matplotlib.figure.Figure at 0x7f953b59fe90>"
       ]
      }
     ],
     "prompt_number": 44
    },
    {
     "cell_type": "markdown",
     "metadata": {},
     "source": [
      "## Accuracy Measure\n",
      "#### 1.  We can check the accuracy measure of our regression model using score() function. It measures the variation of our predictions from the actual data. \n",
      "#### 2. if score = 1. perfect prediction"
     ]
    },
    {
     "cell_type": "code",
     "collapsed": false,
     "input": [
      "regression.score(gpa_test, salary_test), regression.score(gpa_train, salary_train)"
     ],
     "language": "python",
     "metadata": {},
     "outputs": [
      {
       "metadata": {},
       "output_type": "pyout",
       "prompt_number": 60,
       "text": [
        "(0.017256921468820074, 0.016423774433673155)"
       ]
      }
     ],
     "prompt_number": 60
    },
    {
     "cell_type": "markdown",
     "metadata": {},
     "source": [
      "## Multiple Linear Regression - (Linear Regression with two independent variable)\n",
      "\n",
      "### Let us use 'collegeGPA' and '12percentage', '10percentage' as three features for the prediction"
     ]
    },
    {
     "cell_type": "code",
     "collapsed": false,
     "input": [
      "# create X and y\n",
      "feature_cols = ['collegeGPA', '12percentage', '10percentage']\n",
      "X = labour_data[feature_cols]\n",
      "y = labour_data.Salary\n",
      "# Split the data into training/testing sets\n",
      "x_train, x_test, y_train, y_test = train_test_split(X, y)\n",
      "\n",
      "lm = LinearRegression()\n",
      "lm.fit(x_train, y_train)\n",
      "\n",
      "# print intercept and coefficients\n",
      "print lm.intercept_\n",
      "print lm.coef_"
     ],
     "language": "python",
     "metadata": {},
     "outputs": [
      {
       "output_type": "stream",
       "stream": "stdout",
       "text": [
        "-139170.026187\n",
        "[ 1895.31737708  1518.78600524  2567.79155217]\n"
       ]
      }
     ],
     "prompt_number": 48
    },
    {
     "cell_type": "code",
     "collapsed": false,
     "input": [
      "# pair the feature names with the coefficients\n",
      "zip(feature_cols, lm.coef_)"
     ],
     "language": "python",
     "metadata": {},
     "outputs": [
      {
       "metadata": {},
       "output_type": "pyout",
       "prompt_number": 49,
       "text": [
        "[('collegeGPA', 1895.3173770831218),\n",
        " ('12percentage', 1518.7860052382007),\n",
        " ('10percentage', 2567.7915521653063)]"
       ]
      }
     ],
     "prompt_number": 49
    },
    {
     "cell_type": "code",
     "collapsed": false,
     "input": [
      "salary_predict_mul = lm.predict(x_test)\n",
      "salary_predict_mul[:10]"
     ],
     "language": "python",
     "metadata": {},
     "outputs": [
      {
       "metadata": {},
       "output_type": "pyout",
       "prompt_number": 52,
       "text": [
        "array([ 224664.39138566,  348336.93082567,  274110.61840375,\n",
        "        312111.73986221,  298992.48943794,  364308.87562327,\n",
        "        311244.45886617,  251082.40738784,  370264.02296855,\n",
        "        386127.56155413])"
       ]
      }
     ],
     "prompt_number": 52
    },
    {
     "cell_type": "code",
     "collapsed": false,
     "input": [
      "y_test"
     ],
     "language": "python",
     "metadata": {},
     "outputs": [
      {
       "metadata": {},
       "output_type": "pyout",
       "prompt_number": 53,
       "text": [
        "3547    160000\n",
        "2429    460000\n",
        "454     120000\n",
        "183     215000\n",
        "2641    100000\n",
        "         ...  \n",
        "3020    190000\n",
        "1706    150000\n",
        "1987     65000\n",
        "73      240000\n",
        "2094    240000\n",
        "Name: Salary, dtype: float64"
       ]
      }
     ],
     "prompt_number": 53
    },
    {
     "cell_type": "code",
     "collapsed": false,
     "input": [
      "lm.score(x_test, y_test)"
     ],
     "language": "python",
     "metadata": {},
     "outputs": [
      {
       "metadata": {},
       "output_type": "pyout",
       "prompt_number": 56,
       "text": [
        "0.02150936425438521"
       ]
      }
     ],
     "prompt_number": 56
    },
    {
     "cell_type": "markdown",
     "metadata": {},
     "source": [
      "### What is goodness-of-fit for a linear model (R - Squared )? OR In terms of scikit-learn, what does the value of function score() represent?"
     ]
    },
    {
     "cell_type": "markdown",
     "metadata": {},
     "source": [
      "#### 1. Linear regression estimate a line that minimizes the distance between the predicted/fitted line and all observed data points.\n",
      "#### 2. Technically, the differences between the observed values and the predicted values' should be small.\n",
      "#### 3. R-squared is a statistical measure of how close the data are to the regression line.\n",
      "#### 4. How much of change in output (y) is explained by by the change in input (x ).\n",
      "#### 5. For ex : if R^^2 is 0.75 , then 75% of the response variable is described by the feature variable.\n",
      "#### 6. It is taken as a tool for comparing different models.\n",
      "#### 7. NOTE THAT : R-squared will always increase as you add more features to the model, even if they are unrelated to the dependent variable in your domain. Thus, model with highest R- squared value is not the best approach for selecting best linear model."
     ]
    },
    {
     "cell_type": "markdown",
     "metadata": {},
     "source": [
      "## How to Handle 'Categorical input variables' ?"
     ]
    },
    {
     "cell_type": "markdown",
     "metadata": {},
     "source": [
      "### In our case let us take ['Degree','Specialization']"
     ]
    },
    {
     "cell_type": "code",
     "collapsed": false,
     "input": [
      "# create X and y\n",
      "feature_cols = ['collegeGPA', 'Degree', 'Specialization']\n",
      "\n",
      "X = labour_data[feature_cols]\n",
      "X_gpa = labour_data[['collegeGPA']]\n",
      "X_degree = pd.get_dummies(labour_data['Degree'])                     \n",
      "X_specialization = pd.get_dummies(labour_data['Specialization'])\n",
      "X_new = pd.concat([X_gpa, X_degree, X_specialization], axis = 1)\n",
      "\n",
      "\n",
      "y_new = labour_data.Salary\n",
      "# Split the data into training/testing sets\n",
      "x_cat_train, x_cat_test, y_cat_train, y_cat_test = train_test_split(X_new, y_new)\n",
      "\n",
      "lm_cat = LinearRegression()\n",
      "lm_cat.fit(x_cat_train, y_cat_train)\n",
      "\n",
      "# print intercept and coefficients\n",
      "print lm_cat.intercept_\n",
      "print lm_cat.coef_\n",
      "X_new.head()"
     ],
     "language": "python",
     "metadata": {},
     "outputs": [
      {
       "output_type": "stream",
       "stream": "stdout",
       "text": [
        "85588.8190716\n",
        "[  3.24185162e+03  -3.40754842e+04  -1.11592495e+05   6.05253567e+04\n",
        "   8.51426224e+04  -1.11080171e+05   1.22405082e+05  -1.11058081e+05\n",
        "   2.89009581e+04  -6.04690424e+03  -3.68312993e-10   4.82170592e+04\n",
        "   1.18151394e+05  -1.81978791e+05  -1.15300576e+05   8.53491452e+04\n",
        "   1.91534770e+05  -2.09259373e+04  -1.04106310e+04  -2.87503678e+04\n",
        "   1.35257528e-10   1.18412332e+04   1.65747174e+04  -3.36285641e+05\n",
        "   9.20546343e+04   1.59469031e+04   8.82131781e+03  -1.51535808e+04\n",
        "   7.98679507e+03   5.38869360e+04   2.81254481e+04  -8.45506296e-11\n",
        "   9.13853584e+03   9.10138732e+04   8.77663101e+04   9.12268681e+04\n",
        "   2.22765325e+05   1.11199926e+04   2.25528267e+04   9.73125095e+04\n",
        "  -9.08909385e+03  -4.74074161e+04  -1.39540729e+05   4.13185747e+04\n",
        "   2.62796266e+04  -6.25262591e+04   4.10647755e+04  -1.31878342e+05\n",
        "   0.00000000e+00  -2.92494899e+05   4.85718074e+04]\n"
       ]
      },
      {
       "metadata": {},
       "output_type": "pyout",
       "prompt_number": 5,
       "text": [
        "   collegeGPA  B.Tech/B.E.  M.Sc. (Tech.)  M.Tech./M.E.  MCA  \\\n",
        "0       78.00            1              0             0    0   \n",
        "1       70.06            1              0             0    0   \n",
        "2       70.00            1              0             0    0   \n",
        "3       74.64            1              0             0    0   \n",
        "4       73.90            1              0             0    0   \n",
        "\n",
        "               ...                metallurgical engineering  other  \\\n",
        "0              ...                                        0      0   \n",
        "1              ...                                        0      0   \n",
        "2              ...                                        0      0   \n",
        "3              ...                                        0      0   \n",
        "4              ...                                        0      0   \n",
        "\n",
        "   polymer technology  power systems and automation  \\\n",
        "0                   0                             0   \n",
        "1                   0                             0   \n",
        "2                   0                             0   \n",
        "3                   0                             0   \n",
        "4                   0                             0   \n",
        "\n",
        "   telecommunication engineering  \n",
        "0                              0  \n",
        "1                              0  \n",
        "2                              0  \n",
        "3                              0  \n",
        "4                              0  \n",
        "\n",
        "[5 rows x 51 columns]"
       ]
      }
     ],
     "prompt_number": 5
    },
    {
     "cell_type": "code",
     "collapsed": false,
     "input": [
      "predict_cat = lm_cat.predict(x_cat_test)"
     ],
     "language": "python",
     "metadata": {},
     "outputs": [],
     "prompt_number": 66
    },
    {
     "cell_type": "code",
     "collapsed": false,
     "input": [
      "predict_cat[:10]"
     ],
     "language": "python",
     "metadata": {},
     "outputs": [
      {
       "metadata": {},
       "output_type": "pyout",
       "prompt_number": 68,
       "text": [
        "array([ 290316.24944516,  255629.35541879,  267595.3499809 ,\n",
        "        291888.09206537,  278361.12806507,  336855.86145975,\n",
        "        250522.74176674,  253162.6439042 ,  342135.75191018,\n",
        "        307388.85765932])"
       ]
      }
     ],
     "prompt_number": 68
    },
    {
     "cell_type": "code",
     "collapsed": false,
     "input": [
      "y_cat_train.head()"
     ],
     "language": "python",
     "metadata": {},
     "outputs": [
      {
       "metadata": {},
       "output_type": "pyout",
       "prompt_number": 69,
       "text": [
        "2768    310000\n",
        "847     600000\n",
        "492     525000\n",
        "2931    420000\n",
        "3670    360000\n",
        "Name: Salary, dtype: float64"
       ]
      }
     ],
     "prompt_number": 69
    },
    {
     "cell_type": "code",
     "collapsed": false,
     "input": [
      "lm_cat.score(x_cat_test, y_cat_test)"
     ],
     "language": "python",
     "metadata": {},
     "outputs": [
      {
       "metadata": {},
       "output_type": "pyout",
       "prompt_number": 6,
       "text": [
        "0.03924820746496871"
       ]
      }
     ],
     "prompt_number": 6
    },
    {
     "cell_type": "code",
     "collapsed": false,
     "input": [],
     "language": "python",
     "metadata": {},
     "outputs": []
    }
   ],
   "metadata": {}
  }
 ]
}