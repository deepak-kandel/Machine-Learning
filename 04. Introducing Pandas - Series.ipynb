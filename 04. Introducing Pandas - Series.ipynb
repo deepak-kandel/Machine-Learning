{
 "metadata": {
  "name": ""
 },
 "nbformat": 3,
 "nbformat_minor": 0,
 "worksheets": [
  {
   "cells": [
    {
     "cell_type": "markdown",
     "metadata": {},
     "source": [
      "## Why we need pandas?\n",
      "\n",
      "#### 1. Accomplish data preprocessing step.\n",
      "#### 2. In simple words, data cleaning.\n",
      "#### 3. Handling missing data.\n",
      "#### 4. Understanding data"
     ]
    },
    {
     "cell_type": "markdown",
     "metadata": {},
     "source": [
      "## How to handle data in Pandas?\n",
      "### We have two data structures for this. \n",
      "1. Series 2. DataFrame"
     ]
    },
    {
     "cell_type": "markdown",
     "metadata": {},
     "source": [
      "## Importing Pandas"
     ]
    },
    {
     "cell_type": "code",
     "collapsed": false,
     "input": [
      "# NumPy and pandas\n",
      "import numpy as np\n",
      "import pandas as pd"
     ],
     "language": "python",
     "metadata": {},
     "outputs": [],
     "prompt_number": 1
    },
    {
     "cell_type": "code",
     "collapsed": false,
     "input": [
      "# Set some pandas options for controlling output display\n",
      "pd.set_option('display.notebook_repr_html', False) # When True, IPython notebook will use html representation for pandas objects\n",
      "pd.set_option('display.max_columns', 10) # If max_columns is exceeded, switch to truncate view.\n",
      "pd.set_option('display.max_rows', 10) # If max_rows is exceeded, switch to truncate view.\n"
     ],
     "language": "python",
     "metadata": {},
     "outputs": [],
     "prompt_number": 2
    },
    {
     "cell_type": "markdown",
     "metadata": {},
     "source": [
      "## Creating a Series and accessing elements"
     ]
    },
    {
     "cell_type": "code",
     "collapsed": false,
     "input": [
      "# create one item series\n",
      "s1 = pd.Series(5)\n",
      "s1\n",
      "\n",
      "## look at the output, 0 is the label, 5 is the item."
     ],
     "language": "python",
     "metadata": {},
     "outputs": [
      {
       "metadata": {},
       "output_type": "pyout",
       "prompt_number": 4,
       "text": [
        "0    5\n",
        "dtype: int64"
       ]
      }
     ],
     "prompt_number": 4
    },
    {
     "cell_type": "code",
     "collapsed": false,
     "input": [
      "# get the item with '0' label, it's look like accessing items in list in python\n",
      "\n",
      "s1[0]"
     ],
     "language": "python",
     "metadata": {},
     "outputs": [
      {
       "metadata": {},
       "output_type": "pyout",
       "prompt_number": 6,
       "text": [
        "5"
       ]
      }
     ],
     "prompt_number": 6
    },
    {
     "cell_type": "code",
     "collapsed": false,
     "input": [
      "# use multiple items in series\n",
      "\n",
      "s2 = pd.Series([1, 2, 3, 4, 5, 6])\n",
      "s2\n",
      "\n",
      "# look at the output, [0,1,2,3,4,5] represent index and next column is corresponding values"
     ],
     "language": "python",
     "metadata": {},
     "outputs": [
      {
       "metadata": {},
       "output_type": "pyout",
       "prompt_number": 9,
       "text": [
        "0    1\n",
        "1    2\n",
        "2    3\n",
        "3    4\n",
        "4    5\n",
        "5    6\n",
        "dtype: int64"
       ]
      }
     ],
     "prompt_number": 9
    },
    {
     "cell_type": "code",
     "collapsed": false,
     "input": [
      "# get index of the series\n",
      "s2.index"
     ],
     "language": "python",
     "metadata": {},
     "outputs": [
      {
       "metadata": {},
       "output_type": "pyout",
       "prompt_number": 10,
       "text": [
        "Int64Index([0, 1, 2, 3, 4, 5], dtype='int64')"
       ]
      }
     ],
     "prompt_number": 10
    },
    {
     "cell_type": "code",
     "collapsed": false,
     "input": [
      "# get values only of the series\n",
      "s2.values"
     ],
     "language": "python",
     "metadata": {},
     "outputs": [
      {
       "metadata": {},
       "output_type": "pyout",
       "prompt_number": 11,
       "text": [
        "array([1, 2, 3, 4, 5, 6])"
       ]
      }
     ],
     "prompt_number": 11
    },
    {
     "cell_type": "code",
     "collapsed": false,
     "input": [
      "# look the values are the numpy array\n",
      "type(s2.values)"
     ],
     "language": "python",
     "metadata": {},
     "outputs": [
      {
       "metadata": {},
       "output_type": "pyout",
       "prompt_number": 12,
       "text": [
        "numpy.ndarray"
       ]
      }
     ],
     "prompt_number": 12
    },
    {
     "cell_type": "code",
     "collapsed": false,
     "input": [
      "# Define our own index \n",
      "\n",
      "s3 = pd.Series([10, 20, 30],index=['x', 'y', 'z'])\n",
      "s3"
     ],
     "language": "python",
     "metadata": {},
     "outputs": [
      {
       "metadata": {},
       "output_type": "pyout",
       "prompt_number": 14,
       "text": [
        "x    10\n",
        "y    20\n",
        "z    30\n",
        "dtype: int64"
       ]
      }
     ],
     "prompt_number": 14
    },
    {
     "cell_type": "code",
     "collapsed": false,
     "input": [
      "# accessing data with index\n",
      "s3['x'], s3['y'], s3['z']"
     ],
     "language": "python",
     "metadata": {},
     "outputs": [
      {
       "metadata": {},
       "output_type": "pyout",
       "prompt_number": 17,
       "text": [
        "(10, 20, 30)"
       ]
      }
     ],
     "prompt_number": 17
    },
    {
     "cell_type": "code",
     "collapsed": false,
     "input": [
      "# create series with same values\n",
      "\n",
      "s4 = pd.Series(2, s3.index)\n",
      "s4"
     ],
     "language": "python",
     "metadata": {},
     "outputs": [
      {
       "metadata": {},
       "output_type": "pyout",
       "prompt_number": 18,
       "text": [
        "x    2\n",
        "y    2\n",
        "z    2\n",
        "dtype: int64"
       ]
      }
     ],
     "prompt_number": 18
    },
    {
     "cell_type": "code",
     "collapsed": false,
     "input": [
      "# create series with python dictonary\n",
      "\n",
      "my_dict = {'Nepal' : 'Kathmandu', 'India' : 'New Delhi'}\n",
      "s5 = pd.Series(my_dict)\n",
      "s5"
     ],
     "language": "python",
     "metadata": {},
     "outputs": [
      {
       "metadata": {},
       "output_type": "pyout",
       "prompt_number": 19,
       "text": [
        "India    New Delhi\n",
        "Nepal    Kathmandu\n",
        "dtype: object"
       ]
      }
     ],
     "prompt_number": 19
    },
    {
     "cell_type": "markdown",
     "metadata": {},
     "source": [
      "## Length, Size, Shape and Count and Unique\n",
      "\n",
      "1. len() : lenght of the series\n",
      "2. size : also the no. of items in the series\n",
      "3. shape : Tuple with a value\n",
      "4. count() : Gives the total non-nan values\n",
      "5. unique() : Gives all unique values in the series\n",
      "6. value_counts() : Gives the count of non-Nan values (frequencies of the values) "
     ]
    },
    {
     "cell_type": "code",
     "collapsed": false,
     "input": [
      "# create a series with two nan values\n",
      "s6 = pd.Series([4,6,3,4,5,2,3,4,5,8,9,8,7,np.nan,6,5,4, np.nan])"
     ],
     "language": "python",
     "metadata": {},
     "outputs": [],
     "prompt_number": 25
    },
    {
     "cell_type": "code",
     "collapsed": false,
     "input": [
      "len(s6)"
     ],
     "language": "python",
     "metadata": {},
     "outputs": [
      {
       "metadata": {},
       "output_type": "pyout",
       "prompt_number": 26,
       "text": [
        "18"
       ]
      }
     ],
     "prompt_number": 26
    },
    {
     "cell_type": "code",
     "collapsed": false,
     "input": [
      "s6.shape"
     ],
     "language": "python",
     "metadata": {},
     "outputs": [
      {
       "metadata": {},
       "output_type": "pyout",
       "prompt_number": 27,
       "text": [
        "(18,)"
       ]
      }
     ],
     "prompt_number": 27
    },
    {
     "cell_type": "code",
     "collapsed": false,
     "input": [
      "s6.size"
     ],
     "language": "python",
     "metadata": {},
     "outputs": [
      {
       "metadata": {},
       "output_type": "pyout",
       "prompt_number": 28,
       "text": [
        "18"
       ]
      }
     ],
     "prompt_number": 28
    },
    {
     "cell_type": "code",
     "collapsed": false,
     "input": [
      "s6.count()"
     ],
     "language": "python",
     "metadata": {},
     "outputs": [
      {
       "metadata": {},
       "output_type": "pyout",
       "prompt_number": 29,
       "text": [
        "16"
       ]
      }
     ],
     "prompt_number": 29
    },
    {
     "cell_type": "code",
     "collapsed": false,
     "input": [
      "s6.unique()"
     ],
     "language": "python",
     "metadata": {},
     "outputs": [
      {
       "metadata": {},
       "output_type": "pyout",
       "prompt_number": 30,
       "text": [
        "array([  4.,   6.,   3.,   5.,   2.,   8.,   9.,   7.,  nan])"
       ]
      }
     ],
     "prompt_number": 30
    },
    {
     "cell_type": "code",
     "collapsed": false,
     "input": [
      "s6.value_counts()"
     ],
     "language": "python",
     "metadata": {},
     "outputs": [
      {
       "metadata": {},
       "output_type": "pyout",
       "prompt_number": 31,
       "text": [
        "4    4\n",
        "5    3\n",
        "8    2\n",
        "6    2\n",
        "3    2\n",
        "9    1\n",
        "7    1\n",
        "2    1\n",
        "dtype: int64"
       ]
      }
     ],
     "prompt_number": 31
    },
    {
     "cell_type": "markdown",
     "metadata": {},
     "source": [
      "## Data peeking : head(), tail()"
     ]
    },
    {
     "cell_type": "code",
     "collapsed": false,
     "input": [
      "# give first 5\n",
      "s6.head()"
     ],
     "language": "python",
     "metadata": {},
     "outputs": [
      {
       "metadata": {},
       "output_type": "pyout",
       "prompt_number": 32,
       "text": [
        "0    4\n",
        "1    6\n",
        "2    3\n",
        "3    4\n",
        "4    5\n",
        "dtype: float64"
       ]
      }
     ],
     "prompt_number": 32
    },
    {
     "cell_type": "code",
     "collapsed": false,
     "input": [
      "# get first 3\n",
      "s6.head(3)"
     ],
     "language": "python",
     "metadata": {},
     "outputs": [
      {
       "metadata": {},
       "output_type": "pyout",
       "prompt_number": 33,
       "text": [
        "0    4\n",
        "1    6\n",
        "2    3\n",
        "dtype: float64"
       ]
      }
     ],
     "prompt_number": 33
    },
    {
     "cell_type": "code",
     "collapsed": false,
     "input": [
      "# give last 5\n",
      "s6.tail()\n"
     ],
     "language": "python",
     "metadata": {},
     "outputs": [
      {
       "metadata": {},
       "output_type": "pyout",
       "prompt_number": 34,
       "text": [
        "13   NaN\n",
        "14     6\n",
        "15     5\n",
        "16     4\n",
        "17   NaN\n",
        "dtype: float64"
       ]
      }
     ],
     "prompt_number": 34
    },
    {
     "cell_type": "code",
     "collapsed": false,
     "input": [
      "# get last 3\n",
      "s6.tail(3)"
     ],
     "language": "python",
     "metadata": {},
     "outputs": [
      {
       "metadata": {},
       "output_type": "pyout",
       "prompt_number": 35,
       "text": [
        "15     5\n",
        "16     4\n",
        "17   NaN\n",
        "dtype: float64"
       ]
      }
     ],
     "prompt_number": 35
    },
    {
     "cell_type": "code",
     "collapsed": false,
     "input": [
      "# get specific items giving indexes\n",
      "s6.take([1,2,3])"
     ],
     "language": "python",
     "metadata": {},
     "outputs": [
      {
       "metadata": {},
       "output_type": "pyout",
       "prompt_number": 36,
       "text": [
        "1    6\n",
        "2    3\n",
        "3    4\n",
        "dtype: float64"
       ]
      }
     ],
     "prompt_number": 36
    },
    {
     "cell_type": "markdown",
     "metadata": {},
     "source": [
      "## Boolean Selection of data"
     ]
    },
    {
     "cell_type": "code",
     "collapsed": false,
     "input": [
      "# Let us define a series\n",
      "s7 = pd.Series([5,3,6,7,1,8,7,3,2,4,10])\n",
      "s7"
     ],
     "language": "python",
     "metadata": {},
     "outputs": [
      {
       "metadata": {},
       "output_type": "pyout",
       "prompt_number": 41,
       "text": [
        "0      5\n",
        "1      3\n",
        "2      6\n",
        "3      7\n",
        "4      1\n",
        "      ..\n",
        "6      7\n",
        "7      3\n",
        "8      2\n",
        "9      4\n",
        "10    10\n",
        "dtype: int64"
       ]
      }
     ],
     "prompt_number": 41
    },
    {
     "cell_type": "code",
     "collapsed": false,
     "input": [
      "# Suppose we want all the items greater than 5\n",
      "s7 > 5"
     ],
     "language": "python",
     "metadata": {},
     "outputs": [
      {
       "metadata": {},
       "output_type": "pyout",
       "prompt_number": 42,
       "text": [
        "0     False\n",
        "1     False\n",
        "2      True\n",
        "3      True\n",
        "4     False\n",
        "      ...  \n",
        "6      True\n",
        "7     False\n",
        "8     False\n",
        "9     False\n",
        "10     True\n",
        "dtype: bool"
       ]
      }
     ],
     "prompt_number": 42
    },
    {
     "cell_type": "code",
     "collapsed": false,
     "input": [
      "# let's use logical variable\n",
      "greater_than_5 = s7 > 5\n",
      "s7[greater_than_5]"
     ],
     "language": "python",
     "metadata": {},
     "outputs": [
      {
       "metadata": {},
       "output_type": "pyout",
       "prompt_number": 43,
       "text": [
        "2      6\n",
        "3      7\n",
        "5      8\n",
        "6      7\n",
        "10    10\n",
        "dtype: int64"
       ]
      }
     ],
     "prompt_number": 43
    },
    {
     "cell_type": "code",
     "collapsed": false,
     "input": [
      "s7[(s7 > 6) & (s7 < 10)]"
     ],
     "language": "python",
     "metadata": {},
     "outputs": [
      {
       "metadata": {},
       "output_type": "pyout",
       "prompt_number": 45,
       "text": [
        "3    7\n",
        "5    8\n",
        "6    7\n",
        "dtype: int64"
       ]
      }
     ],
     "prompt_number": 45
    },
    {
     "cell_type": "code",
     "collapsed": false,
     "input": [],
     "language": "python",
     "metadata": {},
     "outputs": []
    }
   ],
   "metadata": {}
  }
 ]
}