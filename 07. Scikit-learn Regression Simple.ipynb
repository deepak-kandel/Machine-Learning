{
 "metadata": {
  "name": ""
 },
 "nbformat": 3,
 "nbformat_minor": 0,
 "worksheets": [
  {
   "cells": [
    {
     "cell_type": "code",
     "collapsed": false,
     "input": [
      "### In the section, we will learn the basic regression model "
     ],
     "language": "python",
     "metadata": {},
     "outputs": []
    },
    {
     "cell_type": "code",
     "collapsed": false,
     "input": [
      "# NumPy and pandas\n",
      "import numpy as np\n",
      "import pandas as pd\n",
      "\n",
      "# Set some pandas options for controlling output display\n",
      "pd.set_option('display.notebook_repr_html', False) # When True, IPython notebook will use html representation for pandas objects\n",
      "pd.set_option('display.max_columns', 10) # If max_columns is exceeded, switch to truncate view.\n",
      "pd.set_option('display.max_rows', 10) # If max_rows is exceeded, switch to truncate view.\n",
      "\n",
      "import matplotlib.pyplot as plt\n",
      "\n",
      "# this allows plots to appear directly in the notebook\n",
      "%matplotlib inline"
     ],
     "language": "python",
     "metadata": {},
     "outputs": [],
     "prompt_number": 1
    },
    {
     "cell_type": "code",
     "collapsed": false,
     "input": [
      "# let us assume a data set representing shipping charge and distance \n",
      "df = pd.DataFrame({\n",
      "    'distance':pd.Series([20,10,40,50,70]),\n",
      "    'shipping_charge':pd.Series([15, 10, 25, 40, 65])\n",
      "                   })"
     ],
     "language": "python",
     "metadata": {},
     "outputs": [],
     "prompt_number": 11
    },
    {
     "cell_type": "code",
     "collapsed": false,
     "input": [
      "# sort values by distance\n",
      "df.sort_values('distance')"
     ],
     "language": "python",
     "metadata": {},
     "outputs": [
      {
       "metadata": {},
       "output_type": "pyout",
       "prompt_number": 12,
       "text": [
        "   distance  shipping_charge\n",
        "1        10               10\n",
        "0        20               15\n",
        "2        40               25\n",
        "3        50               40\n",
        "4        70               65"
       ]
      }
     ],
     "prompt_number": 12
    },
    {
     "cell_type": "code",
     "collapsed": false,
     "input": [
      "# let's see the data distribution\n",
      "\n",
      "X = df[['distance']]\n",
      "y = df[['shipping_charge']]\n",
      "\n",
      "plt.figure()\n",
      "plt.title('Shipping Charge against distance plot')\n",
      "plt.xlabel('Distance in KM')\n",
      "plt.ylabel('Price in $')\n",
      "plt.plot(X, y)\n",
      "plt.axis([0, df['distance'].max(), 0, df['shipping_charge'].max()]) # [xmin,xmax,ymin,ymax]\n",
      "plt.grid(True)\n",
      "plt.show()\n"
     ],
     "language": "python",
     "metadata": {},
     "outputs": [
      {
       "metadata": {},
       "output_type": "display_data",
       "png": "[encoded data removed]",
       "text": [
        "<matplotlib.figure.Figure at 0x7f863d5ed590>"
       ]
      }
     ],
     "prompt_number": 4
    },
    {
     "cell_type": "code",
     "collapsed": false,
     "input": [
      "from sklearn.linear_model import LinearRegression\n",
      "\n",
      "# trian data\n",
      "X = df[['distance']]\n",
      "y = df[['shipping_charge']]\n",
      "\n",
      "# create the regression object\n",
      "rg = LinearRegression()\n",
      "\n",
      "# fit the model\n",
      "rg.fit(X,y)"
     ],
     "language": "python",
     "metadata": {},
     "outputs": [
      {
       "metadata": {},
       "output_type": "pyout",
       "prompt_number": 13,
       "text": [
        "LinearRegression(copy_X=True, fit_intercept=True, n_jobs=1, normalize=False)"
       ]
      }
     ],
     "prompt_number": 13
    },
    {
     "cell_type": "code",
     "collapsed": false,
     "input": [
      "# Let's predict : How much will be the shipping charge for 35 KM\n",
      "\n",
      "rg.predict(35)"
     ],
     "language": "python",
     "metadata": {},
     "outputs": [
      {
       "metadata": {},
       "output_type": "pyout",
       "prompt_number": 14,
       "text": [
        "array([[ 28.28947368]])"
       ]
      }
     ],
     "prompt_number": 14
    },
    {
     "cell_type": "markdown",
     "metadata": {},
     "source": [
      "### LinearRegression learns the parameters for the following model\n",
      "   y = $ \\alpha $ + $ \\beta $  x\n",
      "   \n",
      "   y - > predicted value of the response variable (predicted value of shipping charge)\n",
      "   \n",
      "   x - > explanatory variable"
     ]
    },
    {
     "cell_type": "markdown",
     "metadata": {},
     "source": [
      "### Cost Function or Loss Function\n",
      "\n",
      "#### 1. The differences between the prices predicted by the model and the observed charges of shipping in the training set are called residuals or training errors\n",
      "#### 2. When we evaluate a model on a separate set of test data; the differences between the predicted and observed values in the test data are called prediction errors or test errors.\n",
      "#### 3. Our model fits if the values it predicts for the response variable are close to the observed values for all of the training examples.\n",
      "#### 4. This measures of fitness is called the residual sum of squares cost function.\n",
      "#### 5. A small RSS indicates a tight fit of the model to the data. It is used as an optimality criterion in parameter selection and model selection.\n",
      "\n",
      "If $  y_i  $ is the observed value and f( $ x_i  $  ) is the predicted value, then the residual sum of squares is given by\n",
      "\n",
      "  RSS = $ \\sum_{i=1}^{n} ( y_i - f(x_i) )^{2} $\n",
      "  "
     ]
    },
    {
     "cell_type": "code",
     "collapsed": false,
     "input": [
      "# in our above example\n",
      "\n",
      "RSS = np.mean((rg.predict(X) - y) ** 2)\n",
      "RSS"
     ],
     "language": "python",
     "metadata": {},
     "outputs": [
      {
       "metadata": {},
       "output_type": "pyout",
       "prompt_number": 9,
       "text": [
        "shipping_charge    21.754386\n",
        "dtype: float64"
       ]
      }
     ],
     "prompt_number": 9
    },
    {
     "cell_type": "markdown",
     "metadata": {},
     "source": [
      "## Evaluating the Model\n",
      "\n",
      "#### 1. R-squared measures how well the observed values of the response variables are predicted by the model.\n",
      "#### 2. r-squared is the proportion of the variance in the response variable that is explained by the model\n",
      "#### 3. An r-squared score of one indicates that the response variable can be predicted without any error using the model. An r-squared score of one half indicates that half of the variance in the response variable can be predicted using the model.\n",
      "#### 4. An r-squared score of one indicates that the response variable can be predicted without any error using the model. An r-squared score of one half indicates that half of the variance in the response variable can be predicted using the model.\n",
      "#### 5. The score method of LinearRegression returns the model's r-squared value"
     ]
    },
    {
     "cell_type": "code",
     "collapsed": false,
     "input": [
      "from sklearn.linear_model import LinearRegression\n",
      "\n",
      "df = pd.DataFrame({\n",
      "    'distance':pd.Series([20,10,40,50,70]),\n",
      "    'shipping_charge':pd.Series([15, 10, 25, 40, 65])\n",
      "                   })\n",
      "\n",
      "df_test = pd.DataFrame({\n",
      "    'distance':pd.Series([10,15,20,25,35]),\n",
      "    'shipping_charge':pd.Series([12, 16, 23, 24, 36])\n",
      "                   })\n",
      "X = df[['distance']]\n",
      "y = df[['shipping_charge']]\n",
      "\n",
      "X_test = df_test[['distance']]\n",
      "y_test = df_test[['shipping_charge']]\n",
      "\n",
      "model = LinearRegression()\n",
      "model.fit(X,y)\n",
      "\n",
      "print \"R squared value is \", model.score(X_test, y_test)\n"
     ],
     "language": "python",
     "metadata": {},
     "outputs": [
      {
       "output_type": "stream",
       "stream": "stdout",
       "text": [
        "R squared value is  0.336884627026\n"
       ]
      }
     ],
     "prompt_number": 31
    },
    {
     "cell_type": "markdown",
     "metadata": {},
     "source": [
      "## Multiple Linear Regression\n",
      "\n",
      "#### 1. Let's look at the value of r-squared. it's really a low value. That means our predictio is not working very well. How can we improve it?\n",
      "#### 2. Let us suppose, the shipping price is not only determined by the distance but also by the number of items purchased.\n",
      "That means\n",
      "y = $ \\alpha $ + $ \\beta_1 distance $   + $ \\beta_2 number-of-items $"
     ]
    },
    {
     "cell_type": "code",
     "collapsed": false,
     "input": [
      "df_train = pd.DataFrame({\n",
      "    'distance':pd.Series([20,10,40,50,70]),\n",
      "    'shipping_charge':pd.Series([22, 11, 41, 53, 70]),\n",
      "    'no_of_items': pd.Series([3,4,1,3,1])\n",
      "                   })\n",
      "\n",
      "df_test = pd.DataFrame({\n",
      "    'distance':pd.Series([10,15,20,25,35]),\n",
      "    'shipping_charge':pd.Series([16, 18, 21, 30, 47]),\n",
      "    'no_of_items': pd.Series([1,2,3,1,3])\n",
      "                   })\n",
      "X = df_train[['distance', 'no_of_items']]\n",
      "y = df_train['shipping_charge']\n",
      "\n",
      "X_test = df_test[['distance', 'no_of_items']]\n",
      "y_test = df_test['shipping_charge']\n",
      "\n",
      "mul_model = LinearRegression()\n",
      "mul_model.fit(X,y)\n",
      "\n",
      "predictions = mul_model.predict(X_test)\n",
      "\n",
      "for i, prediction in enumerate(predictions):\n",
      "    print 'predicted value : %s, and target value : %s' %(prediction, y_test[i])\n",
      "\n",
      "print 'r-squared value is ', mul_model.score(X_test,y_test)\n"
     ],
     "language": "python",
     "metadata": {},
     "outputs": [
      {
       "output_type": "stream",
       "stream": "stdout",
       "text": [
        "predicted value : 10.0, and target value : 16\n",
        "predicted value : 15.75, and target value : 18\n",
        "predicted value : 21.5, and target value : 21\n",
        "predicted value : 25.25, and target value : 30\n",
        "predicted value : 36.75, and target value : 47\n",
        "r-squared value is  0.738162585245\n"
       ]
      }
     ],
     "prompt_number": 21
    },
    {
     "cell_type": "markdown",
     "metadata": {},
     "source": [
      "### By adding the number of items, our model performance has been increased. That means the shipping charge is differentiated based on no of items as well. If a customer has purchased large quantity of items, seller may reduce the shipping charge."
     ]
    },
    {
     "cell_type": "markdown",
     "metadata": {},
     "source": [
      "# What if the relationship between response variable and explanatory variable is not Linear?"
     ]
    },
    {
     "cell_type": "code",
     "collapsed": false,
     "input": [
      "from sklearn.preprocessing import PolynomialFeatures\n",
      "from sklearn.linear_model import LinearRegression\n",
      "\n",
      "df_train = pd.DataFrame({\n",
      "    'distance':pd.Series([20,10,40,50,70]),\n",
      "    'shipping_charge':pd.Series([21, 11, 44, 52, 74]),\n",
      "    'no_of_items': pd.Series([3,4,1,3,1])\n",
      "                   })\n",
      "\n",
      "df_test = pd.DataFrame({\n",
      "    'distance':pd.Series([10,15,20,25,35]),\n",
      "    'shipping_charge':pd.Series([15, 17, 21, 30, 47]),\n",
      "    'no_of_items': pd.Series([1,2,3,1,3])\n",
      "                   })\n",
      "X_train = df_train[['distance', 'no_of_items']]\n",
      "y_train = df_train['shipping_charge']\n",
      "\n",
      "X_test = df_test[['distance', 'no_of_items']]\n",
      "y_test = df_test['shipping_charge']\n",
      "\n",
      "quadratic_featurizer = PolynomialFeatures(degree=2)\n",
      "X_train_quadratic = quadratic_featurizer.fit_transform(X_train)\n",
      "X_test_quadratic = quadratic_featurizer.fit_transform(X_test)\n",
      "\n",
      "regressor_quadratic = LinearRegression()\n",
      "\n",
      "regressor_quadratic.fit(X_train_quadratic, y_train)\n",
      "\n",
      "predictions = regressor_quadratic.predict(X_test_quadratic)\n",
      "\n",
      "for i, prediction in enumerate(predictions):\n",
      "    print 'predicted value : %s, and target value : %s' %(prediction, y_test[i])\n",
      "\n",
      "    \n",
      "print 'r-squared value is ', regressor_quadratic.score(X_test_quadratic,y_test)"
     ],
     "language": "python",
     "metadata": {},
     "outputs": [
      {
       "output_type": "stream",
       "stream": "stdout",
       "text": [
        "predicted value : 7.93204802187, and target value : 15\n",
        "predicted value : 14.4745180082, and target value : 17\n",
        "predicted value : 21.0, and target value : 21\n",
        "predicted value : 26.7245180082, and target value : 30\n",
        "predicted value : 37.2584939973, and target value : 47\n",
        "r-squared value is  0.763216774947\n"
       ]
      }
     ],
     "prompt_number": 12
    },
    {
     "cell_type": "code",
     "collapsed": false,
     "input": [],
     "language": "python",
     "metadata": {},
     "outputs": [],
     "prompt_number": 8
    },
    {
     "cell_type": "code",
     "collapsed": false,
     "input": [],
     "language": "python",
     "metadata": {},
     "outputs": [],
     "prompt_number": 8
    },
    {
     "cell_type": "code",
     "collapsed": false,
     "input": [],
     "language": "python",
     "metadata": {},
     "outputs": [],
     "prompt_number": 8
    },
    {
     "cell_type": "code",
     "collapsed": false,
     "input": [],
     "language": "python",
     "metadata": {},
     "outputs": []
    }
   ],
   "metadata": {}
  }
 ]
}