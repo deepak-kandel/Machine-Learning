{
 "cells": [
  {
   "cell_type": "code",
   "execution_count": null,
   "metadata": {},
   "outputs": [],
   "source": [
    "import numpy as np\n",
    "\n",
    "def sigmoid(x):\n",
    "\treturn 1.0/(1.0 + np.exp(-x))\n",
    "\n",
    "def sigmoid_der(x):\n",
    "\treturn x*(1.0 - x)"
   ]
  },
  {
   "cell_type": "code",
   "execution_count": 29,
   "metadata": {
    "collapsed": true
   },
   "outputs": [
    {
     "name": "stdout",
     "output_type": "stream",
     "text": [
      "[[0.65780421]\n",
      " [0.69954968]\n",
      " [0.69777479]\n",
      " [0.72956564]]\n",
      "[[0.01545642]\n",
      " [0.98429341]\n",
      " [0.98470105]\n",
      " [0.01545108]]\n"
     ]
    }
   ],
   "source": [
    "class NN:\n",
    "    def __init__(self, inputs):\n",
    "        self.inputs = inputs\n",
    "        self.l=len(self.inputs)\n",
    "        self.li=len(self.inputs[0])\n",
    "\n",
    "        self.wi=np.random.random((self.li, self.l))# Generates the matrix of 2 by 4,, input weights\n",
    "        self.wh=np.random.random((self.l, 1)) #Generates the matrix of 4 by 1\n",
    "\n",
    "    def think(self, inp): #Logistic regression function\n",
    "        s1=sigmoid(np.dot(inp, self.wi))\n",
    "        s2=sigmoid(np.dot(s1, self.wh))\n",
    "        return s2\n",
    "\n",
    "    def train(self, inputs,outputs, it):\n",
    "        for i in range(it):\n",
    "            l0=inputs\n",
    "            l1=sigmoid(np.dot(l0, self.wi))\n",
    "            l2=sigmoid(np.dot(l1, self.wh))\n",
    "\n",
    "            l2_err=outputs - l2\n",
    "            l2_delta = np.multiply(l2_err, sigmoid_der(l2))\n",
    "\n",
    "            l1_err=np.dot(l2_delta, self.wh.T)\n",
    "            l1_delta=np.multiply(l1_err, sigmoid_der(l1))\n",
    "\n",
    "            self.wh+=np.dot(l1.T, l2_delta)\n",
    "            self.wi+=np.dot(l0.T, l1_delta)\n",
    "\n",
    "inputs=np.array([[0,0], [0,1], [1,0], [1,1] ])\n",
    "outputs=np.array([ [0], [1],[1], [0]])\n",
    "\n",
    "n=NN(inputs)\n",
    "print(n.think(inputs))\n",
    "n.train(inputs, outputs, 10000)\n",
    "print(n.think(inputs))"
   ]
  },
  {
   "cell_type": "code",
   "execution_count": 37,
   "metadata": {},
   "outputs": [
    {
     "name": "stdout",
     "output_type": "stream",
     "text": [
      "li: 2\n",
      "..............................\n",
      "l: 4\n",
      "..............................\n",
      "[[0.99933898 0.15982087 0.41068694 0.87505929]\n",
      " [0.42090596 0.96625639 0.58433543 0.66052109]]\n",
      "..............................\n",
      "[[0.27473302]\n",
      " [0.04150333]\n",
      " [0.91694636]\n",
      " [0.95062105]]\n"
     ]
    }
   ],
   "source": [
    "inputs=np.array([[0,0], [0,1], [1,0], [1,1] ])\n",
    "print('li:',len(inputs[0]))\n",
    "print(\"..............................\")\n",
    "print('l:',len(inputs))\n",
    "print(\"..............................\")\n",
    "print(np.random.random((2,4)))\n",
    "print(\"..............................\")\n",
    "print(np.random.random((4,1)))"
   ]
  },
  {
   "cell_type": "code",
   "execution_count": 42,
   "metadata": {
    "collapsed": true
   },
   "outputs": [
    {
     "data": {
      "text/plain": [
       "array([[0.98201379, 0.99966465],\n",
       "       [0.99966465, 0.99999386],\n",
       "       [0.99999386, 0.99966465],\n",
       "       [0.99999989, 0.99999386]])"
      ]
     },
     "execution_count": 42,
     "metadata": {},
     "output_type": "execute_result"
    }
   ],
   "source": [
    "s1=sigmoid(np.dot([[1,2],[2,3],[3,2],[4,3]], len(inputs) ))\n",
    "s1"
   ]
  },
  {
   "cell_type": "code",
   "execution_count": 40,
   "metadata": {
    "collapsed": true
   },
   "outputs": [
    {
     "data": {
      "text/plain": [
       "array([[0.98201379, 0.99966465],\n",
       "       [0.99966465, 0.99999386],\n",
       "       [0.99999386, 0.99966465],\n",
       "       [0.99999989, 0.99999386]])"
      ]
     },
     "execution_count": 40,
     "metadata": {},
     "output_type": "execute_result"
    }
   ],
   "source": [
    "s2=sigmoid(np.dot(s1, ))"
   ]
  },
  {
   "cell_type": "code",
   "execution_count": null,
   "metadata": {},
   "outputs": [],
   "source": []
  }
 ],
 "metadata": {
  "kernelspec": {
   "display_name": "Python 3",
   "language": "python",
   "name": "python3"
  },
  "language_info": {
   "codemirror_mode": {
    "name": "ipython",
    "version": 3
   },
   "file_extension": ".py",
   "mimetype": "text/x-python",
   "name": "python",
   "nbconvert_exporter": "python",
   "pygments_lexer": "ipython3",
   "version": "3.6.5"
  }
 },
 "nbformat": 4,
 "nbformat_minor": 2
}
