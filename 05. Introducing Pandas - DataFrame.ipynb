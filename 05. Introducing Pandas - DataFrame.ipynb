{
 "metadata": {
  "name": ""
 },
 "nbformat": 3,
 "nbformat_minor": 0,
 "worksheets": [
  {
   "cells": [
    {
     "cell_type": "markdown",
     "metadata": {},
     "source": [
      "## Import Pandas"
     ]
    },
    {
     "cell_type": "code",
     "collapsed": false,
     "input": [
      "# NumPy and pandas\n",
      "import numpy as np\n",
      "import pandas as pd\n",
      "\n",
      "# Set some pandas options for controlling output display\n",
      "pd.set_option('display.notebook_repr_html', False) # When True, IPython notebook will use html representation for pandas objects\n",
      "pd.set_option('display.max_columns', 10) # If max_columns is exceeded, switch to truncate view.\n",
      "pd.set_option('display.max_rows', 10) # If max_rows is exceeded, switch to truncate view.\n"
     ],
     "language": "python",
     "metadata": {},
     "outputs": [],
     "prompt_number": 1
    },
    {
     "cell_type": "markdown",
     "metadata": {},
     "source": [
      "## Creating DataFrame\n",
      "1. DataFrame is mostly used data structure in Pandas.\n",
      "2. It comprises of two or more dimensional data \n",
      "3. Each column of a DataFrame is a Series\n"
     ]
    },
    {
     "cell_type": "code",
     "collapsed": false,
     "input": [
      "# create dataframe with 2-d ndarray\n",
      "df = pd.DataFrame(np.array([[3,4],[6,7]]))"
     ],
     "language": "python",
     "metadata": {},
     "outputs": [],
     "prompt_number": 2
    },
    {
     "cell_type": "code",
     "collapsed": false,
     "input": [
      "df"
     ],
     "language": "python",
     "metadata": {},
     "outputs": [
      {
       "metadata": {},
       "output_type": "pyout",
       "prompt_number": 3,
       "text": [
        "   0  1\n",
        "0  3  4\n",
        "1  6  7"
       ]
      }
     ],
     "prompt_number": 3
    },
    {
     "cell_type": "code",
     "collapsed": false,
     "input": [
      "df[0]"
     ],
     "language": "python",
     "metadata": {},
     "outputs": [
      {
       "metadata": {},
       "output_type": "pyout",
       "prompt_number": 3,
       "text": [
        "0    3\n",
        "1    6\n",
        "Name: 0, dtype: int64"
       ]
      }
     ],
     "prompt_number": 3
    },
    {
     "cell_type": "code",
     "collapsed": false,
     "input": [
      "# each colums of the dataframe is a series\n",
      "type(df[0])"
     ],
     "language": "python",
     "metadata": {},
     "outputs": [
      {
       "metadata": {},
       "output_type": "pyout",
       "prompt_number": 5,
       "text": [
        "pandas.core.series.Series"
       ]
      }
     ],
     "prompt_number": 5
    },
    {
     "cell_type": "code",
     "collapsed": false,
     "input": [
      "# create dataframe with Series objects]\n",
      "s1 = pd.Series([4,2,3,5,7])\n",
      "s2 = pd.Series([6,3,8,3,9])\n",
      "                \n",
      "df1 = pd.DataFrame([s1,s2])\n",
      "df1"
     ],
     "language": "python",
     "metadata": {},
     "outputs": [
      {
       "metadata": {},
       "output_type": "pyout",
       "prompt_number": 4,
       "text": [
        "   0  1  2  3  4\n",
        "0  4  2  3  5  7\n",
        "1  6  3  8  3  9"
       ]
      }
     ],
     "prompt_number": 4
    },
    {
     "cell_type": "code",
     "collapsed": false,
     "input": [
      "# number of rows and columns\n",
      "df1.shape\n"
     ],
     "language": "python",
     "metadata": {},
     "outputs": [
      {
       "metadata": {},
       "output_type": "pyout",
       "prompt_number": 9,
       "text": [
        "(2, 5)"
       ]
      }
     ],
     "prompt_number": 9
    },
    {
     "cell_type": "code",
     "collapsed": false,
     "input": [
      "# assign column names\n",
      "df2 = pd.DataFrame([s1,s2], columns=['a','b','c','d','e'])\n",
      "df2.columns"
     ],
     "language": "python",
     "metadata": {},
     "outputs": [
      {
       "metadata": {},
       "output_type": "pyout",
       "prompt_number": 5,
       "text": [
        "Index([u'a', u'b', u'c', u'd', u'e'], dtype='object')"
       ]
      }
     ],
     "prompt_number": 5
    },
    {
     "cell_type": "code",
     "collapsed": false,
     "input": [
      "# create dataframe with dictonary\n",
      "s3 = pd.Series([7,4,3,5,6])\n",
      "s4 = pd.Series([6,3,8,7,4])\n",
      "data_dict = {'c1' : s3, 'c2' : s4}\n",
      "df3 = pd.DataFrame(data_dict)\n",
      "df3"
     ],
     "language": "python",
     "metadata": {},
     "outputs": [
      {
       "metadata": {},
       "output_type": "pyout",
       "prompt_number": 6,
       "text": [
        "   c1  c2\n",
        "0   7   6\n",
        "1   4   3\n",
        "2   3   8\n",
        "3   5   7\n",
        "4   6   4"
       ]
      }
     ],
     "prompt_number": 6
    },
    {
     "cell_type": "markdown",
     "metadata": {},
     "source": [
      "#### Row wise selection using 'ix'"
     ]
    },
    {
     "cell_type": "code",
     "collapsed": false,
     "input": [
      "# it selects the first row\n",
      "df3.ix[0]"
     ],
     "language": "python",
     "metadata": {},
     "outputs": [
      {
       "metadata": {},
       "output_type": "pyout",
       "prompt_number": 8,
       "text": [
        "c1    7\n",
        "c2    6\n",
        "Name: 0, dtype: int64"
       ]
      }
     ],
     "prompt_number": 8
    },
    {
     "cell_type": "code",
     "collapsed": false,
     "input": [
      "# it selects the 'c1' only in between 1 to 3 rows\n",
      "df3.ix[1:3, 'c1']"
     ],
     "language": "python",
     "metadata": {},
     "outputs": [
      {
       "metadata": {},
       "output_type": "pyout",
       "prompt_number": 9,
       "text": [
        "1    4\n",
        "2    3\n",
        "3    5\n",
        "Name: c1, dtype: int64"
       ]
      }
     ],
     "prompt_number": 9
    },
    {
     "cell_type": "code",
     "collapsed": false,
     "input": [
      "# it selects both columns 'c1' and 'c2' in between 1 to 3 rows\n",
      "df3.ix[1:3, ['c1','c2']]"
     ],
     "language": "python",
     "metadata": {},
     "outputs": [
      {
       "metadata": {},
       "output_type": "pyout",
       "prompt_number": 11,
       "text": [
        "   c1  c2\n",
        "1   4   3\n",
        "2   3   8\n",
        "3   5   7"
       ]
      }
     ],
     "prompt_number": 11
    },
    {
     "cell_type": "code",
     "collapsed": false,
     "input": [
      "# gives list of rows to select\n",
      "df3.ix[[0,2,4], ['c1', 'c2']]"
     ],
     "language": "python",
     "metadata": {},
     "outputs": [
      {
       "metadata": {},
       "output_type": "pyout",
       "prompt_number": 12,
       "text": [
        "   c1  c2\n",
        "0   7   6\n",
        "2   3   8\n",
        "4   6   4"
       ]
      }
     ],
     "prompt_number": 12
    },
    {
     "cell_type": "code",
     "collapsed": false,
     "input": [
      "# boolean selection in rows : having 'c1' greater than 3\n",
      "df3.ix[df3['c1'] > 3, ['c1','c2']]"
     ],
     "language": "python",
     "metadata": {},
     "outputs": [
      {
       "metadata": {},
       "output_type": "pyout",
       "prompt_number": 14,
       "text": [
        "   c1  c2\n",
        "0   7   6\n",
        "1   4   3\n",
        "3   5   7\n",
        "4   6   4"
       ]
      }
     ],
     "prompt_number": 14
    },
    {
     "cell_type": "markdown",
     "metadata": {},
     "source": []
    },
    {
     "cell_type": "code",
     "collapsed": false,
     "input": [
      "### Null columns\n",
      "\n",
      "null_df = pd.DataFrame({\n",
      "            'a' : np.random.randn(6),\n",
      "            'b' : ['male', 'female']*3,\n",
      "            'c' : np.random.randn(6)},\n",
      "            columns = ['a', 'b', 'c', 'd'])\n",
      "null_df"
     ],
     "language": "python",
     "metadata": {},
     "outputs": [
      {
       "metadata": {},
       "output_type": "pyout",
       "prompt_number": 19,
       "text": [
        "          a       b         c    d\n",
        "0  1.155411    male -0.348655  NaN\n",
        "1  1.322146  female -0.417793  NaN\n",
        "2  0.982667    male -0.065872  NaN\n",
        "3 -1.066798  female -1.498698  NaN\n",
        "4  0.035609    male  0.012015  NaN\n",
        "5  0.069469  female -0.122697  NaN"
       ]
      }
     ],
     "prompt_number": 19
    },
    {
     "cell_type": "code",
     "collapsed": false,
     "input": [
      "pd.isnull(null_df)"
     ],
     "language": "python",
     "metadata": {},
     "outputs": [
      {
       "metadata": {},
       "output_type": "pyout",
       "prompt_number": 21,
       "text": [
        "       a      b      c     d\n",
        "0  False  False  False  True\n",
        "1  False  False  False  True\n",
        "2  False  False  False  True\n",
        "3  False  False  False  True\n",
        "4  False  False  False  True\n",
        "5  False  False  False  True"
       ]
      }
     ],
     "prompt_number": 21
    },
    {
     "cell_type": "markdown",
     "metadata": {},
     "source": [
      "## reading csv data with dataframe.\n",
      "NOTE : We are using data sets from http://ikdd.acm.org/Site/CoDS2016/datachallenge.html"
     ]
    },
    {
     "cell_type": "code",
     "collapsed": false,
     "input": [],
     "language": "python",
     "metadata": {},
     "outputs": []
    },
    {
     "cell_type": "code",
     "collapsed": false,
     "input": [
      "employee_data = pd.read_csv('data/data.csv')"
     ],
     "language": "python",
     "metadata": {},
     "outputs": [],
     "prompt_number": 3
    },
    {
     "cell_type": "code",
     "collapsed": false,
     "input": [
      "# read first five rows\n",
      "employee_data.head()"
     ],
     "language": "python",
     "metadata": {},
     "outputs": [
      {
       "metadata": {},
       "output_type": "pyout",
       "prompt_number": 4,
       "text": [
        "  Unnamed: 0      ID   Salary          DOJ          DOL  \\\n",
        "0      train  203097   420000  6/1/12 0:00      present   \n",
        "1      train  579905   500000  9/1/13 0:00      present   \n",
        "2      train  810601   325000  6/1/14 0:00      present   \n",
        "3      train  267447  1100000  7/1/11 0:00      present   \n",
        "4      train  343523   200000  3/1/14 0:00  3/1/15 0:00   \n",
        "\n",
        "           ...           conscientiousness agreeableness extraversion  \\\n",
        "0          ...                      0.9737        0.8128       0.5269   \n",
        "1          ...                     -0.7335        0.3789       1.2396   \n",
        "2          ...                      0.2718        1.7109       0.1637   \n",
        "3          ...                      0.0464        0.3448      -0.3440   \n",
        "4          ...                     -0.8810       -0.2793      -1.0697   \n",
        "\n",
        "  nueroticism  openess_to_experience  \n",
        "0     1.35490                -0.4455  \n",
        "1    -0.10760                 0.8637  \n",
        "2    -0.86820                 0.6721  \n",
        "3    -0.40780                -0.9194  \n",
        "4     0.09163                -0.1295  \n",
        "\n",
        "[5 rows x 39 columns]"
       ]
      }
     ],
     "prompt_number": 4
    },
    {
     "cell_type": "code",
     "collapsed": false,
     "input": [
      "# column 1 - ID\n",
      "# column 2 - Salary\n",
      "# column 5 - Designation\n",
      "# column 6 - City\n",
      "# column 7 - Gender\n",
      "# let's use columns [1,2,5,6,7] for further study."
     ],
     "language": "python",
     "metadata": {},
     "outputs": [],
     "prompt_number": 15
    },
    {
     "cell_type": "code",
     "collapsed": false,
     "input": [
      "employee_data_limited = pd.read_csv(\"data/data.csv\", \n",
      "                    usecols=[1, 2, 5, 6, 7])"
     ],
     "language": "python",
     "metadata": {},
     "outputs": [],
     "prompt_number": 5
    },
    {
     "cell_type": "code",
     "collapsed": false,
     "input": [
      "# read first 5 rows\n",
      "employee_data_limited.head()"
     ],
     "language": "python",
     "metadata": {},
     "outputs": [
      {
       "metadata": {},
       "output_type": "pyout",
       "prompt_number": 6,
       "text": [
        "       ID   Salary               Designation    JobCity Gender\n",
        "0  203097   420000   senior quality engineer  Bangalore      f\n",
        "1  579905   500000         assistant manager     Indore      m\n",
        "2  810601   325000          systems engineer    Chennai      f\n",
        "3  267447  1100000  senior software engineer    Gurgaon      m\n",
        "4  343523   200000                       get    Manesar      m"
       ]
      }
     ],
     "prompt_number": 6
    },
    {
     "cell_type": "code",
     "collapsed": false,
     "input": [
      "# read last 5 rows.\n",
      "employee_data_limited.tail()"
     ],
     "language": "python",
     "metadata": {},
     "outputs": [
      {
       "metadata": {},
       "output_type": "pyout",
       "prompt_number": 7,
       "text": [
        "          ID  Salary                  Designation           JobCity Gender\n",
        "3993   47916  280000            software engineer        New Delhi       m\n",
        "3994  752781  100000             technical writer         Hyderabad      f\n",
        "3995  355888  320000  associate software engineer         Bangalore      m\n",
        "3996  947111  200000           software developer  Asifabadbanglore      f\n",
        "3997  324966  400000      senior systems engineer           Chennai      f"
       ]
      }
     ],
     "prompt_number": 7
    },
    {
     "cell_type": "code",
     "collapsed": false,
     "input": [
      "# number of rows in our dataset\n",
      "len(employee_data_limited)"
     ],
     "language": "python",
     "metadata": {},
     "outputs": [
      {
       "metadata": {},
       "output_type": "pyout",
       "prompt_number": 8,
       "text": [
        "3998"
       ]
      }
     ],
     "prompt_number": 8
    },
    {
     "cell_type": "code",
     "collapsed": false,
     "input": [
      "# what are index and columns\n",
      "employee_data_limited.index, employee_data_limited.columns"
     ],
     "language": "python",
     "metadata": {},
     "outputs": [
      {
       "metadata": {},
       "output_type": "pyout",
       "prompt_number": 9,
       "text": [
        "(Int64Index([   0,    1,    2,    3,    4,    5,    6,    7,    8,    9,\n",
        "            ...\n",
        "            3988, 3989, 3990, 3991, 3992, 3993, 3994, 3995, 3996, 3997],\n",
        "           dtype='int64', length=3998),\n",
        " Index([u'ID', u'Salary', u'Designation', u'JobCity', u'Gender'], dtype='object'))"
       ]
      }
     ],
     "prompt_number": 9
    },
    {
     "cell_type": "markdown",
     "metadata": {},
     "source": [
      "## How to select particular columns in a dataframe?"
     ]
    },
    {
     "cell_type": "code",
     "collapsed": false,
     "input": [
      "# let's select column 1 and 3\n",
      "employee_data_limited[[1,3]].head()"
     ],
     "language": "python",
     "metadata": {},
     "outputs": [
      {
       "metadata": {},
       "output_type": "pyout",
       "prompt_number": 10,
       "text": [
        "    Salary    JobCity\n",
        "0   420000  Bangalore\n",
        "1   500000     Indore\n",
        "2   325000    Chennai\n",
        "3  1100000    Gurgaon\n",
        "4   200000    Manesar"
       ]
      }
     ],
     "prompt_number": 10
    },
    {
     "cell_type": "code",
     "collapsed": false,
     "input": [
      "# select only 'Salary' column\n",
      "employee_data_limited[[1]].head()"
     ],
     "language": "python",
     "metadata": {},
     "outputs": [
      {
       "metadata": {},
       "output_type": "pyout",
       "prompt_number": 11,
       "text": [
        "    Salary\n",
        "0   420000\n",
        "1   500000\n",
        "2   325000\n",
        "3  1100000\n",
        "4   200000"
       ]
      }
     ],
     "prompt_number": 11
    },
    {
     "cell_type": "markdown",
     "metadata": {},
     "source": [
      "## How to change the column names in a dataframe?"
     ]
    },
    {
     "cell_type": "code",
     "collapsed": false,
     "input": [
      "# let's copy our data in anothere dataframe object\n",
      "employee_data_copy = employee_data_limited.copy()\n",
      "# we are changing the column names as follows\n",
      "employee_data_copy.columns = ['id','salary','designation','job_city','gender']\n",
      "employee_data_copy.head()"
     ],
     "language": "python",
     "metadata": {},
     "outputs": [
      {
       "metadata": {},
       "output_type": "pyout",
       "prompt_number": 12,
       "text": [
        "       id   salary               designation   job_city gender\n",
        "0  203097   420000   senior quality engineer  Bangalore      f\n",
        "1  579905   500000         assistant manager     Indore      m\n",
        "2  810601   325000          systems engineer    Chennai      f\n",
        "3  267447  1100000  senior software engineer    Gurgaon      m\n",
        "4  343523   200000                       get    Manesar      m"
       ]
      }
     ],
     "prompt_number": 12
    },
    {
     "cell_type": "code",
     "collapsed": false,
     "input": [
      "type(employee_data_copy[[1]].head())"
     ],
     "language": "python",
     "metadata": {},
     "outputs": [
      {
       "metadata": {},
       "output_type": "pyout",
       "prompt_number": 29,
       "text": [
        "pandas.core.frame.DataFrame"
       ]
      }
     ],
     "prompt_number": 29
    },
    {
     "cell_type": "code",
     "collapsed": false,
     "input": [
      "type(employee_data_copy['salary'])"
     ],
     "language": "python",
     "metadata": {},
     "outputs": [
      {
       "metadata": {},
       "output_type": "pyout",
       "prompt_number": 13,
       "text": [
        "pandas.core.series.Series"
       ]
      }
     ],
     "prompt_number": 13
    },
    {
     "cell_type": "code",
     "collapsed": false,
     "input": [
      "# get salary only\n",
      "employee_data_copy['salary'].head()"
     ],
     "language": "python",
     "metadata": {},
     "outputs": [
      {
       "metadata": {},
       "output_type": "pyout",
       "prompt_number": 14,
       "text": [
        "0     420000\n",
        "1     500000\n",
        "2     325000\n",
        "3    1100000\n",
        "4     200000\n",
        "Name: salary, dtype: float64"
       ]
      }
     ],
     "prompt_number": 14
    },
    {
     "cell_type": "code",
     "collapsed": false,
     "input": [
      "# get salary and city both\n",
      "employee_data_copy[['salary', 'job_city']].head()"
     ],
     "language": "python",
     "metadata": {},
     "outputs": [
      {
       "metadata": {},
       "output_type": "pyout",
       "prompt_number": 15,
       "text": [
        "    salary   job_city\n",
        "0   420000  Bangalore\n",
        "1   500000     Indore\n",
        "2   325000    Chennai\n",
        "3  1100000    Gurgaon\n",
        "4   200000    Manesar"
       ]
      }
     ],
     "prompt_number": 15
    },
    {
     "cell_type": "markdown",
     "metadata": {},
     "source": [
      "## Creating New Columns in dataframe"
     ]
    },
    {
     "cell_type": "code",
     "collapsed": false,
     "input": [
      "employee_data_copy['double_salary'] = employee_data_copy['salary'] * 2"
     ],
     "language": "python",
     "metadata": {},
     "outputs": [],
     "prompt_number": 16
    },
    {
     "cell_type": "code",
     "collapsed": false,
     "input": [
      "employee_data_copy.head()"
     ],
     "language": "python",
     "metadata": {},
     "outputs": [
      {
       "metadata": {},
       "output_type": "pyout",
       "prompt_number": 17,
       "text": [
        "       id   salary               designation   job_city gender  double_salary\n",
        "0  203097   420000   senior quality engineer  Bangalore      f         840000\n",
        "1  579905   500000         assistant manager     Indore      m        1000000\n",
        "2  810601   325000          systems engineer    Chennai      f         650000\n",
        "3  267447  1100000  senior software engineer    Gurgaon      m        2200000\n",
        "4  343523   200000                       get    Manesar      m         400000"
       ]
      }
     ],
     "prompt_number": 17
    },
    {
     "cell_type": "code",
     "collapsed": false,
     "input": [
      "# insert 'trible_salary' column at second postion\n",
      "employee_data_copy.insert(1, 'triple_salary', employee_data_copy['salary'] * 3)\n",
      "employee_data_copy[:2]"
     ],
     "language": "python",
     "metadata": {},
     "outputs": [
      {
       "metadata": {},
       "output_type": "pyout",
       "prompt_number": 19,
       "text": [
        "       id  triple_salary  salary              designation   job_city gender  \\\n",
        "0  203097        1260000  420000  senior quality engineer  Bangalore      f   \n",
        "1  579905        1500000  500000        assistant manager     Indore      m   \n",
        "\n",
        "   double_salary  \n",
        "0         840000  \n",
        "1        1000000  "
       ]
      }
     ],
     "prompt_number": 19
    },
    {
     "cell_type": "markdown",
     "metadata": {},
     "source": [
      "## Deleting columns in DataFrame\n"
     ]
    },
    {
     "cell_type": "code",
     "collapsed": false,
     "input": [
      "# deletion is in-place\n",
      "del employee_data_copy['triple_salary']\n",
      "employee_data_copy"
     ],
     "language": "python",
     "metadata": {},
     "outputs": [
      {
       "metadata": {},
       "output_type": "pyout",
       "prompt_number": 20,
       "text": [
        "          id   salary                  designation          job_city gender  \\\n",
        "0     203097   420000      senior quality engineer         Bangalore      f   \n",
        "1     579905   500000            assistant manager            Indore      m   \n",
        "2     810601   325000             systems engineer           Chennai      f   \n",
        "3     267447  1100000     senior software engineer           Gurgaon      m   \n",
        "4     343523   200000                          get           Manesar      m   \n",
        "...      ...      ...                          ...               ...    ...   \n",
        "3993   47916   280000            software engineer        New Delhi       m   \n",
        "3994  752781   100000             technical writer         Hyderabad      f   \n",
        "3995  355888   320000  associate software engineer         Bangalore      m   \n",
        "3996  947111   200000           software developer  Asifabadbanglore      f   \n",
        "3997  324966   400000      senior systems engineer           Chennai      f   \n",
        "\n",
        "      double_salary  \n",
        "0            840000  \n",
        "1           1000000  \n",
        "2            650000  \n",
        "3           2200000  \n",
        "4            400000  \n",
        "...             ...  \n",
        "3993         560000  \n",
        "3994         200000  \n",
        "3995         640000  \n",
        "3996         400000  \n",
        "3997         800000  \n",
        "\n",
        "[3998 rows x 6 columns]"
       ]
      }
     ],
     "prompt_number": 20
    },
    {
     "cell_type": "code",
     "collapsed": false,
     "input": [
      "# or you can use pop to delete column\n",
      "employee_data_copy.pop('double_salary')\n",
      "employee_data_copy\n"
     ],
     "language": "python",
     "metadata": {},
     "outputs": [
      {
       "metadata": {},
       "output_type": "pyout",
       "prompt_number": 21,
       "text": [
        "          id   salary                  designation          job_city gender\n",
        "0     203097   420000      senior quality engineer         Bangalore      f\n",
        "1     579905   500000            assistant manager            Indore      m\n",
        "2     810601   325000             systems engineer           Chennai      f\n",
        "3     267447  1100000     senior software engineer           Gurgaon      m\n",
        "4     343523   200000                          get           Manesar      m\n",
        "...      ...      ...                          ...               ...    ...\n",
        "3993   47916   280000            software engineer        New Delhi       m\n",
        "3994  752781   100000             technical writer         Hyderabad      f\n",
        "3995  355888   320000  associate software engineer         Bangalore      m\n",
        "3996  947111   200000           software developer  Asifabadbanglore      f\n",
        "3997  324966   400000      senior systems engineer           Chennai      f\n",
        "\n",
        "[3998 rows x 5 columns]"
       ]
      }
     ],
     "prompt_number": 21
    },
    {
     "cell_type": "markdown",
     "metadata": {},
     "source": [
      "# Append and Concatinating "
     ]
    },
    {
     "cell_type": "code",
     "collapsed": false,
     "input": [
      "# create a dictionary of series\n",
      "s_1 = pd.Series([3,5,4,3])\n",
      "s_2 = pd.Series([6,5,4,3])\n",
      "data_dict = {'c1': s_1, 'c2': s_2}\n",
      "df_1 = pd.DataFrame(data_dict)\n",
      "df_1"
     ],
     "language": "python",
     "metadata": {},
     "outputs": [
      {
       "metadata": {},
       "output_type": "pyout",
       "prompt_number": 23,
       "text": [
        "   c1  c2\n",
        "0   3   6\n",
        "1   5   5\n",
        "2   4   4\n",
        "3   3   3"
       ]
      }
     ],
     "prompt_number": 23
    },
    {
     "cell_type": "code",
     "collapsed": false,
     "input": [
      "s_3 = pd.Series([3,5,4,3])\n",
      "s_4 = pd.Series([6,5,4,3])\n",
      "data_dict1 = {'c1': s_3, 'c2': s_4}\n",
      "df_2 = pd.DataFrame(data_dict1)\n",
      "df_2"
     ],
     "language": "python",
     "metadata": {},
     "outputs": [
      {
       "metadata": {},
       "output_type": "pyout",
       "prompt_number": 24,
       "text": [
        "   c1  c2\n",
        "0   3   6\n",
        "1   5   5\n",
        "2   4   4\n",
        "3   3   3"
       ]
      }
     ],
     "prompt_number": 24
    },
    {
     "cell_type": "code",
     "collapsed": false,
     "input": [
      "df_1.append(df_2)"
     ],
     "language": "python",
     "metadata": {},
     "outputs": [
      {
       "metadata": {},
       "output_type": "pyout",
       "prompt_number": 25,
       "text": [
        "   c1  c2\n",
        "0   3   6\n",
        "1   5   5\n",
        "2   4   4\n",
        "3   3   3\n",
        "0   3   6\n",
        "1   5   5\n",
        "2   4   4\n",
        "3   3   3"
       ]
      }
     ],
     "prompt_number": 25
    },
    {
     "cell_type": "markdown",
     "metadata": {},
     "source": [
      "## Append dataframe with different column names\n"
     ]
    },
    {
     "cell_type": "code",
     "collapsed": false,
     "input": [
      "s_5 = pd.Series([3,5,4,3])\n",
      "s_6 = pd.Series([6,5,4,3])\n",
      "s_7 = pd.Series([6,5,6,4])\n",
      "data_dict2 = {'c1': s_5, 'c2': s_6, 'c3': s_7}\n",
      "df_3 = pd.DataFrame(data_dict2)\n",
      "\n",
      "s_8 = pd.Series([3,5,4,3])\n",
      "s_9 = pd.Series([6,5,4,3])\n",
      "data_dict3 = {'c1': s_8, 'c2': s_9}\n",
      "df_4 = pd.DataFrame(data_dict3)\n",
      "df_3, df_4"
     ],
     "language": "python",
     "metadata": {},
     "outputs": [
      {
       "metadata": {},
       "output_type": "pyout",
       "prompt_number": 27,
       "text": [
        "(   c1  c2  c3\n",
        "0   3   6   6\n",
        "1   5   5   5\n",
        "2   4   4   6\n",
        "3   3   3   4,\n",
        "    c1  c2\n",
        "0   3   6\n",
        "1   5   5\n",
        "2   4   4\n",
        "3   3   3)"
       ]
      }
     ],
     "prompt_number": 27
    },
    {
     "cell_type": "code",
     "collapsed": false,
     "input": [
      "# when appending two dataframes, since each has 4 rows, so total 8 rows\n",
      "# df_4 has no any 'c3' column so filled with NaN\n",
      "df_3.append(df_4)"
     ],
     "language": "python",
     "metadata": {},
     "outputs": [
      {
       "metadata": {},
       "output_type": "pyout",
       "prompt_number": 28,
       "text": [
        "   c1  c2  c3\n",
        "0   3   6   6\n",
        "1   5   5   5\n",
        "2   4   4   6\n",
        "3   3   3   4\n",
        "0   3   6 NaN\n",
        "1   5   5 NaN\n",
        "2   4   4 NaN\n",
        "3   3   3 NaN"
       ]
      }
     ],
     "prompt_number": 28
    },
    {
     "cell_type": "code",
     "collapsed": false,
     "input": [
      "# or we can use concat and pass dataframes as a list\n",
      "df_5 = pd.concat([df_3, df_4])\n",
      "df_5"
     ],
     "language": "python",
     "metadata": {},
     "outputs": [
      {
       "metadata": {},
       "output_type": "pyout",
       "prompt_number": 29,
       "text": [
        "   c1  c2  c3\n",
        "0   3   6   6\n",
        "1   5   5   5\n",
        "2   4   4   6\n",
        "3   3   3   4\n",
        "0   3   6 NaN\n",
        "1   5   5 NaN\n",
        "2   4   4 NaN\n",
        "3   3   3 NaN"
       ]
      }
     ],
     "prompt_number": 29
    },
    {
     "cell_type": "code",
     "collapsed": false,
     "input": [
      "# first three rows, columns 0 and 2\n",
      "df_6 = df_5[:3][[0, 2]]\n",
      "df_6"
     ],
     "language": "python",
     "metadata": {},
     "outputs": [
      {
       "metadata": {},
       "output_type": "pyout",
       "prompt_number": 31,
       "text": [
        "   c1  c3\n",
        "0   3   6\n",
        "1   5   5\n",
        "2   4   6"
       ]
      }
     ],
     "prompt_number": 31
    },
    {
     "cell_type": "markdown",
     "metadata": {},
     "source": [
      "## Removing rows using Boolean selection"
     ]
    },
    {
     "cell_type": "code",
     "collapsed": false,
     "input": [
      "# determine the rows where Price > 300\n",
      "employee_data_copy.head(10)"
     ],
     "language": "python",
     "metadata": {},
     "outputs": [
      {
       "metadata": {},
       "output_type": "pyout",
       "prompt_number": 34,
       "text": [
        "        id   salary               designation   job_city gender\n",
        "0   203097   420000   senior quality engineer  Bangalore      f\n",
        "1   579905   500000         assistant manager     Indore      m\n",
        "2   810601   325000          systems engineer    Chennai      f\n",
        "3   267447  1100000  senior software engineer    Gurgaon      m\n",
        "4   343523   200000                       get    Manesar      m\n",
        "5  1027655   300000           system engineer  Hyderabad      m\n",
        "6   947847   300000    java software engineer   Banglore      m\n",
        "7   912934   400000       mechanical engineer  Bangalore      m\n",
        "8   552574   600000       electrical engineer      Noida      m\n",
        "9  1203363   230000          project engineer    Kolkata      m"
       ]
      }
     ],
     "prompt_number": 34
    },
    {
     "cell_type": "code",
     "collapsed": false,
     "input": [
      "# determine the rows where salary > 300000\n",
      "selection = employee_data_copy['salary'] > 300000\n",
      "selection"
     ],
     "language": "python",
     "metadata": {},
     "outputs": [
      {
       "metadata": {},
       "output_type": "pyout",
       "prompt_number": 36,
       "text": [
        "0        True\n",
        "1        True\n",
        "2        True\n",
        "3        True\n",
        "4       False\n",
        "        ...  \n",
        "3993    False\n",
        "3994    False\n",
        "3995     True\n",
        "3996    False\n",
        "3997     True\n",
        "Name: salary, dtype: bool"
       ]
      }
     ],
     "prompt_number": 36
    },
    {
     "cell_type": "code",
     "collapsed": false,
     "input": [
      "# selecting data with salary > 300000\n",
      "employee_data_copy[selection] "
     ],
     "language": "python",
     "metadata": {},
     "outputs": [
      {
       "metadata": {},
       "output_type": "pyout",
       "prompt_number": 37,
       "text": [
        "          id   salary                  designation   job_city gender\n",
        "0     203097   420000      senior quality engineer  Bangalore      f\n",
        "1     579905   500000            assistant manager     Indore      m\n",
        "2     810601   325000             systems engineer    Chennai      f\n",
        "3     267447  1100000     senior software engineer    Gurgaon      m\n",
        "7     912934   400000          mechanical engineer  Bangalore      m\n",
        "...      ...      ...                          ...        ...    ...\n",
        "3990  204287   480000      senior systems engineer  Hyderabad      f\n",
        "3991  230873   630000              systems analyst  Bangalore      m\n",
        "3992  344407   800000                      manager     Rajkot      m\n",
        "3995  355888   320000  associate software engineer  Bangalore      m\n",
        "3997  324966   400000      senior systems engineer    Chennai      f\n",
        "\n",
        "[1842 rows x 5 columns]"
       ]
      }
     ],
     "prompt_number": 37
    },
    {
     "cell_type": "code",
     "collapsed": false,
     "input": [
      "# selecting complement \n",
      "employee_data_copy[~selection]"
     ],
     "language": "python",
     "metadata": {},
     "outputs": [
      {
       "metadata": {},
       "output_type": "pyout",
       "prompt_number": 38,
       "text": [
        "           id  salary                 designation          job_city gender\n",
        "4      343523  200000                         get           Manesar      m\n",
        "5     1027655  300000             system engineer         Hyderabad      m\n",
        "6      947847  300000      java software engineer          Banglore      m\n",
        "9     1203363  230000            project engineer           Kolkata      m\n",
        "12     606655  270000  quality assurance engineer              Pune      m\n",
        "...       ...     ...                         ...               ...    ...\n",
        "3988   466661  200000                data analyst         Bangalore      f\n",
        "3989  1204604  300000           software engineer         Bangalore      m\n",
        "3993    47916  280000           software engineer        New Delhi       m\n",
        "3994   752781  100000            technical writer         Hyderabad      f\n",
        "3996   947111  200000          software developer  Asifabadbanglore      f\n",
        "\n",
        "[2156 rows x 5 columns]"
       ]
      }
     ],
     "prompt_number": 38
    },
    {
     "cell_type": "markdown",
     "metadata": {},
     "source": [
      "## Reindexing columns"
     ]
    },
    {
     "cell_type": "code",
     "collapsed": false,
     "input": [
      "['id','salary','designation','job_city','gender']\n",
      "# reindex columns\n",
      "employee_data_copy.reindex(columns=['id','gender','salary','job_city','designation'])"
     ],
     "language": "python",
     "metadata": {},
     "outputs": [
      {
       "metadata": {},
       "output_type": "pyout",
       "prompt_number": 39,
       "text": [
        "          id gender   salary          job_city                  designation\n",
        "0     203097      f   420000         Bangalore      senior quality engineer\n",
        "1     579905      m   500000            Indore            assistant manager\n",
        "2     810601      f   325000           Chennai             systems engineer\n",
        "3     267447      m  1100000           Gurgaon     senior software engineer\n",
        "4     343523      m   200000           Manesar                          get\n",
        "...      ...    ...      ...               ...                          ...\n",
        "3993   47916      m   280000        New Delhi             software engineer\n",
        "3994  752781      f   100000         Hyderabad             technical writer\n",
        "3995  355888      m   320000         Bangalore  associate software engineer\n",
        "3996  947111      f   200000  Asifabadbanglore           software developer\n",
        "3997  324966      f   400000           Chennai      senior systems engineer\n",
        "\n",
        "[3998 rows x 5 columns]"
       ]
      }
     ],
     "prompt_number": 39
    },
    {
     "cell_type": "markdown",
     "metadata": {},
     "source": [
      "## Descriptive Statistics"
     ]
    },
    {
     "cell_type": "code",
     "collapsed": false,
     "input": [
      "# mean of values in each column\n",
      "employee_data_copy.mean()"
     ],
     "language": "python",
     "metadata": {},
     "outputs": [
      {
       "metadata": {},
       "output_type": "pyout",
       "prompt_number": 40,
       "text": [
        "id        663794.540520\n",
        "salary    307699.849925\n",
        "dtype: float64"
       ]
      }
     ],
     "prompt_number": 40
    },
    {
     "cell_type": "code",
     "collapsed": false,
     "input": [
      "# mean of values in each row\n",
      "employee_data_copy.mean(axis=1)"
     ],
     "language": "python",
     "metadata": {},
     "outputs": [
      {
       "metadata": {},
       "output_type": "pyout",
       "prompt_number": 41,
       "text": [
        "0       311548.5\n",
        "1       539952.5\n",
        "2       567800.5\n",
        "3       683723.5\n",
        "4       271761.5\n",
        "          ...   \n",
        "3993    163958.0\n",
        "3994    426390.5\n",
        "3995    337944.0\n",
        "3996    573555.5\n",
        "3997    362483.0\n",
        "dtype: float64"
       ]
      }
     ],
     "prompt_number": 41
    },
    {
     "cell_type": "code",
     "collapsed": false,
     "input": [
      "# variance of values in each column\n",
      "employee_data_copy.var()"
     ],
     "language": "python",
     "metadata": {},
     "outputs": [
      {
       "metadata": {},
       "output_type": "pyout",
       "prompt_number": 42,
       "text": [
        "id        1.319275e+11\n",
        "salary    4.525724e+10\n",
        "dtype: float64"
       ]
      }
     ],
     "prompt_number": 42
    },
    {
     "cell_type": "code",
     "collapsed": false,
     "input": [
      "# calculate the min. salary\n",
      "employee_data_copy['salary'].min()"
     ],
     "language": "python",
     "metadata": {},
     "outputs": [
      {
       "metadata": {},
       "output_type": "pyout",
       "prompt_number": 43,
       "text": [
        "35000.0"
       ]
      }
     ],
     "prompt_number": 43
    },
    {
     "cell_type": "code",
     "collapsed": false,
     "input": [
      "# calcuate the max. salary\n",
      "employee_data_copy['salary'].max()"
     ],
     "language": "python",
     "metadata": {},
     "outputs": [
      {
       "metadata": {},
       "output_type": "pyout",
       "prompt_number": 44,
       "text": [
        "4000000.0"
       ]
      }
     ],
     "prompt_number": 44
    },
    {
     "cell_type": "code",
     "collapsed": false,
     "input": [
      "# summary\n",
      "employee_data_copy.describe()"
     ],
     "language": "python",
     "metadata": {},
     "outputs": [
      {
       "metadata": {},
       "output_type": "pyout",
       "prompt_number": 45,
       "text": [
        "                   id          salary\n",
        "count     3998.000000     3998.000000\n",
        "mean    663794.540520   307699.849925\n",
        "std     363218.245829   212737.499957\n",
        "min      11244.000000    35000.000000\n",
        "25%     334284.250000   180000.000000\n",
        "50%     639600.000000   300000.000000\n",
        "75%     990480.000000   370000.000000\n",
        "max    1298275.000000  4000000.000000"
       ]
      }
     ],
     "prompt_number": 45
    },
    {
     "cell_type": "code",
     "collapsed": false,
     "input": [],
     "language": "python",
     "metadata": {},
     "outputs": []
    }
   ],
   "metadata": {}
  }
 ]
}