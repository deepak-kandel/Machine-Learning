{
 "metadata": {
  "name": ""
 },
 "nbformat": 3,
 "nbformat_minor": 0,
 "worksheets": [
  {
   "cells": [
    {
     "cell_type": "markdown",
     "metadata": {},
     "source": [
      "### Why we need logistic Regression\n",
      "#### 1. Till now, we understand the linear regression. Which simply binds response variable and explanatory variable with a relation. And we can predict the response variable when new input comes.\n",
      "#### 2. Logistic Regression addresses the problem of classification. That means when an input comes, the Logistic Regression model predicts a 'class' or 'label' suitable for that data input.\n",
      "#### 3. For example\n",
      "- When you have an email content, how to detect whether it is a spam or ham?\n",
      "- When you have a list of patient symptoms, how to predict whether the patient has a particular disease or not?\n"
     ]
    },
    {
     "cell_type": "markdown",
     "metadata": {},
     "source": [
      "### Binary classification with logistic regression\n",
      "\n",
      "#### 1. In logistic regression, the response variable describes the probability of outcome.\n",
      "#### 2. Here, we observe the calcuated response variable value and if it is higher than threshold 'positive' label will be assigned otherwise\n",
      "'negative' class will be assigned.\n",
      "#### 3. For example : we want to predict probabilities that individuals fall into two categories of the binary response as a function of some explanatory variables, e.g. what is the probability that a student is admitted given she is a female "
     ]
    },
    {
     "cell_type": "markdown",
     "metadata": {},
     "source": [
      "## Real world Example : SPAM FILTERING"
     ]
    },
    {
     "cell_type": "code",
     "collapsed": false,
     "input": [
      "import pandas as pd"
     ],
     "language": "python",
     "metadata": {},
     "outputs": [],
     "prompt_number": 5
    },
    {
     "cell_type": "code",
     "collapsed": false,
     "input": [
      "msg_df = pd.read_csv('data/sms', delimiter='\\t', header = None)"
     ],
     "language": "python",
     "metadata": {},
     "outputs": [],
     "prompt_number": 6
    },
    {
     "cell_type": "code",
     "collapsed": false,
     "input": [
      "msg_df.head()"
     ],
     "language": "python",
     "metadata": {},
     "outputs": [
      {
       "html": [
        "<div style=\"max-width:1500px;overflow:auto;\">\n",
        "<table border=\"1\" class=\"dataframe\">\n",
        "  <thead>\n",
        "    <tr style=\"text-align: right;\">\n",
        "      <th></th>\n",
        "      <th>0</th>\n",
        "      <th>1</th>\n",
        "    </tr>\n",
        "  </thead>\n",
        "  <tbody>\n",
        "    <tr>\n",
        "      <th>0</th>\n",
        "      <td>ham</td>\n",
        "      <td>Go until jurong point, crazy.. Available only ...</td>\n",
        "    </tr>\n",
        "    <tr>\n",
        "      <th>1</th>\n",
        "      <td>ham</td>\n",
        "      <td>Ok lar... Joking wif u oni...</td>\n",
        "    </tr>\n",
        "    <tr>\n",
        "      <th>2</th>\n",
        "      <td>spam</td>\n",
        "      <td>Free entry in 2 a wkly comp to win FA Cup fina...</td>\n",
        "    </tr>\n",
        "    <tr>\n",
        "      <th>3</th>\n",
        "      <td>ham</td>\n",
        "      <td>U dun say so early hor... U c already then say...</td>\n",
        "    </tr>\n",
        "    <tr>\n",
        "      <th>4</th>\n",
        "      <td>ham</td>\n",
        "      <td>Nah I don't think he goes to usf, he lives aro...</td>\n",
        "    </tr>\n",
        "  </tbody>\n",
        "</table>\n",
        "</div>"
       ],
       "metadata": {},
       "output_type": "pyout",
       "prompt_number": 7,
       "text": [
        "      0                                                  1\n",
        "0   ham  Go until jurong point, crazy.. Available only ...\n",
        "1   ham                      Ok lar... Joking wif u oni...\n",
        "2  spam  Free entry in 2 a wkly comp to win FA Cup fina...\n",
        "3   ham  U dun say so early hor... U c already then say...\n",
        "4   ham  Nah I don't think he goes to usf, he lives aro..."
       ]
      }
     ],
     "prompt_number": 7
    },
    {
     "cell_type": "markdown",
     "metadata": {},
     "source": [
      "### How many spams and real messages exists?"
     ]
    },
    {
     "cell_type": "code",
     "collapsed": false,
     "input": [
      "spam_count = msg_df[msg_df[0] == 'spam'][0].count()"
     ],
     "language": "python",
     "metadata": {},
     "outputs": [],
     "prompt_number": 12
    },
    {
     "cell_type": "code",
     "collapsed": false,
     "input": [
      "spam_count"
     ],
     "language": "python",
     "metadata": {},
     "outputs": [
      {
       "metadata": {},
       "output_type": "pyout",
       "prompt_number": 13,
       "text": [
        "747"
       ]
      }
     ],
     "prompt_number": 13
    },
    {
     "cell_type": "code",
     "collapsed": false,
     "input": [
      "ham_count = msg_df[msg_df[0] == 'ham'][0].count()"
     ],
     "language": "python",
     "metadata": {},
     "outputs": [],
     "prompt_number": 14
    },
    {
     "cell_type": "code",
     "collapsed": false,
     "input": [
      "ham_count"
     ],
     "language": "python",
     "metadata": {},
     "outputs": [
      {
       "metadata": {},
       "output_type": "pyout",
       "prompt_number": 15,
       "text": [
        "4825"
       ]
      }
     ],
     "prompt_number": 15
    },
    {
     "cell_type": "markdown",
     "metadata": {},
     "source": [
      "### Let's use scikit learn LogisticRegression for binary classification"
     ]
    },
    {
     "cell_type": "code",
     "collapsed": false,
     "input": [
      "import numpy as np\n",
      "\n",
      "from sklearn.feature_extraction.text import TfidfVectorizer\n",
      "from sklearn.linear_model.logistic import LogisticRegression\n",
      "from sklearn.cross_validation import train_test_split, cross_val_score"
     ],
     "language": "python",
     "metadata": {},
     "outputs": [],
     "prompt_number": 8
    },
    {
     "cell_type": "markdown",
     "metadata": {},
     "source": [
      "### Let's split whole data set into training and test data."
     ]
    },
    {
     "cell_type": "code",
     "collapsed": false,
     "input": [
      "# remember the message part is our explanatory variable and the label's 'spam' and 'ham' are response variable\n",
      "\n",
      "X_train_data, X_test_data, y_train_data, y_test_data = train_test_split(msg_df[1],msg_df[0])"
     ],
     "language": "python",
     "metadata": {},
     "outputs": [],
     "prompt_number": 9
    },
    {
     "cell_type": "markdown",
     "metadata": {},
     "source": [
      "### We will be using TfidfVectorizer (we will discuss about it in our new notebook)"
     ]
    },
    {
     "cell_type": "code",
     "collapsed": false,
     "input": [
      "sms_vectorizer = TfidfVectorizer()\n",
      "X_train_vector = sms_vectorizer.fit_transform(X_train_data)\n",
      "X_test_vector = sms_vectorizer.transform(X_test_data)"
     ],
     "language": "python",
     "metadata": {},
     "outputs": [],
     "prompt_number": 10
    },
    {
     "cell_type": "code",
     "collapsed": false,
     "input": [
      "classifier = LogisticRegression()\n",
      "classifier.fit(X_train_vector, y_train_data)\n",
      "sms_predictions = classifier.predict(X_test_vector)\n",
      "print sms_predictions[:5]\n",
      "print X_test_data[:5]\n",
      "# for i, prediction in enumerate(sms_predictions):\n",
      "#     print prediction, X_test_data[\n"
     ],
     "language": "python",
     "metadata": {},
     "outputs": [
      {
       "output_type": "stream",
       "stream": "stdout",
       "text": [
        "['ham' 'ham' 'spam' 'ham' 'ham']\n",
        "3447    Mon okie lor... Haha, best is cheap n gd food ...\n",
        "1724    Hi Jon, Pete here, Ive bin 2 Spain recently & ...\n",
        "4450    Urgent UR awarded a complimentary trip to Euro...\n",
        "4718    K will do, addie &amp; I are doing some art so...\n",
        "2700    Oh baby of the house. How come you dont have a...\n",
        "Name: 1, dtype: object\n"
       ]
      }
     ],
     "prompt_number": 18
    },
    {
     "cell_type": "code",
     "collapsed": false,
     "input": [],
     "language": "python",
     "metadata": {},
     "outputs": [],
     "prompt_number": 12
    },
    {
     "cell_type": "code",
     "collapsed": false,
     "input": [],
     "language": "python",
     "metadata": {},
     "outputs": []
    }
   ],
   "metadata": {}
  }
 ]
}