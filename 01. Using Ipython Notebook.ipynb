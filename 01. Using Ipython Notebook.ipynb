{
 "metadata": {
  "name": ""
 },
 "nbformat": 3,
 "nbformat_minor": 0,
 "worksheets": [
  {
   "cells": [
    {
     "cell_type": "markdown",
     "metadata": {},
     "source": [
      "##### ctrl + m + a = new cell inserted above\n",
      "##### ctrl + m + b = new cell inserted below"
     ]
    },
    {
     "cell_type": "code",
     "collapsed": false,
     "input": [
      "# Print 'Hello World'\n",
      "print ('Hello World')"
     ],
     "language": "python",
     "metadata": {},
     "outputs": [
      {
       "output_type": "stream",
       "stream": "stdout",
       "text": [
        "Hello World\n"
       ]
      }
     ],
     "prompt_number": 2
    },
    {
     "cell_type": "markdown",
     "metadata": {},
     "source": [
      "### Defining List"
     ]
    },
    {
     "cell_type": "code",
     "collapsed": false,
     "input": [
      "fruits = ['apple', 'banana', 'carrots']"
     ],
     "language": "python",
     "metadata": {},
     "outputs": [],
     "prompt_number": 3
    },
    {
     "cell_type": "code",
     "collapsed": false,
     "input": [
      "print (fruits)"
     ],
     "language": "python",
     "metadata": {},
     "outputs": [
      {
       "output_type": "stream",
       "stream": "stdout",
       "text": [
        "['apple', 'banana', 'carrots']\n"
       ]
      }
     ],
     "prompt_number": 4
    },
    {
     "cell_type": "markdown",
     "metadata": {},
     "source": [
      "### Loading external file"
     ]
    },
    {
     "cell_type": "code",
     "collapsed": false,
     "input": [
      "%load \"test.py\"\n"
     ],
     "language": "python",
     "metadata": {},
     "outputs": [],
     "prompt_number": 6
    },
    {
     "cell_type": "code",
     "collapsed": false,
     "input": [
      "print ('my name is sijan')"
     ],
     "language": "python",
     "metadata": {},
     "outputs": []
    },
    {
     "cell_type": "markdown",
     "metadata": {},
     "source": [
      "### Run external file"
     ]
    },
    {
     "cell_type": "code",
     "collapsed": false,
     "input": [
      "%run \"test.py\""
     ],
     "language": "python",
     "metadata": {},
     "outputs": [
      {
       "output_type": "stream",
       "stream": "stdout",
       "text": [
        "my name is sijan\n"
       ]
      }
     ],
     "prompt_number": 7
    },
    {
     "cell_type": "markdown",
     "metadata": {},
     "source": [
      "## Defining Function"
     ]
    },
    {
     "cell_type": "code",
     "collapsed": false,
     "input": [
      "def get_maximum(data):\n",
      "    maximum = data[0]\n",
      "    for each_data in data:\n",
      "        if each_data > maximum:\n",
      "            maximum = each_data\n",
      "    \n",
      "    return maximum"
     ],
     "language": "python",
     "metadata": {},
     "outputs": [],
     "prompt_number": 10
    },
    {
     "cell_type": "code",
     "collapsed": false,
     "input": [
      "print (get_maximum([2,4,12,1]))"
     ],
     "language": "python",
     "metadata": {},
     "outputs": [
      {
       "output_type": "stream",
       "stream": "stdout",
       "text": [
        "12\n"
       ]
      }
     ],
     "prompt_number": 12
    },
    {
     "cell_type": "code",
     "collapsed": false,
     "input": [
      "fruits"
     ],
     "language": "python",
     "metadata": {},
     "outputs": [
      {
       "metadata": {},
       "output_type": "pyout",
       "prompt_number": 13,
       "text": [
        "['apple', 'banana', 'carrots']"
       ]
      }
     ],
     "prompt_number": 13
    },
    {
     "cell_type": "markdown",
     "metadata": {},
     "source": [
      "## List comprehension"
     ]
    },
    {
     "cell_type": "code",
     "collapsed": false,
     "input": [
      "fruits = [fruit.upper() for fruit in fruits]"
     ],
     "language": "python",
     "metadata": {},
     "outputs": [],
     "prompt_number": 14
    },
    {
     "cell_type": "code",
     "collapsed": false,
     "input": [
      "fruits"
     ],
     "language": "python",
     "metadata": {},
     "outputs": [
      {
       "metadata": {},
       "output_type": "pyout",
       "prompt_number": 15,
       "text": [
        "['APPLE', 'BANANA', 'CARROTS']"
       ]
      }
     ],
     "prompt_number": 15
    },
    {
     "cell_type": "markdown",
     "metadata": {},
     "source": [
      "## Reading File"
     ]
    },
    {
     "cell_type": "code",
     "collapsed": false,
     "input": [
      "fl = open(\"email.txt\")\n",
      "count = 0\n",
      "for line in fl:\n",
      "    line = line.rstrip()\n",
      "    if line.startswith('from:'):\n",
      "        line = line.split(' ')\n",
      "        print (line)\n",
      "        print ('sender is', line[2].replace('<', '').replace('<',''))\n",
      "\n",
      "\n"
     ],
     "language": "python",
     "metadata": {},
     "outputs": [
      {
       "output_type": "stream",
       "stream": "stdout",
       "text": [
        "['from:\\tSijan', 'Bhandari', '<sijanonly@gmail.com>']\n",
        "('sender is', 'sijanonly@gmail.com>')\n"
       ]
      }
     ],
     "prompt_number": 26
    },
    {
     "cell_type": "markdown",
     "metadata": {},
     "source": [
      "## Regular Expression ( Find all numbers in email)"
     ]
    },
    {
     "cell_type": "code",
     "collapsed": false,
     "input": [
      "import re\n",
      "\n",
      "myfile = open('email.txt')\n",
      "total_num = []\n",
      "for line in myfile:\n",
      "    line = line.rstrip()\n",
      "    num = re.findall('[0-9]+', line)\n",
      "    for each in num:\n",
      "        total_num.append(each)\n",
      "\n",
      "print (total_num)\n"
     ],
     "language": "python",
     "metadata": {},
     "outputs": [
      {
       "output_type": "stream",
       "stream": "stdout",
       "text": [
        "['27', '2016', '3', '24', '977', '9849516774']\n"
       ]
      }
     ],
     "prompt_number": 28
    },
    {
     "cell_type": "code",
     "collapsed": false,
     "input": [],
     "language": "python",
     "metadata": {},
     "outputs": []
    }
   ],
   "metadata": {}
  }
 ]
}