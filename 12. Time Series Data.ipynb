{
 "metadata": {
  "name": ""
 },
 "nbformat": 3,
 "nbformat_minor": 0,
 "worksheets": [
  {
   "cells": [
    {
     "cell_type": "code",
     "collapsed": false,
     "input": [
      "import numpy as np\n",
      "import pandas as pd"
     ],
     "language": "python",
     "metadata": {},
     "outputs": [],
     "prompt_number": 1
    },
    {
     "cell_type": "code",
     "collapsed": false,
     "input": [
      "import matplotlib.pyplot as plt\n",
      "%matplotlib inline"
     ],
     "language": "python",
     "metadata": {},
     "outputs": [],
     "prompt_number": 2
    },
    {
     "cell_type": "markdown",
     "metadata": {},
     "source": [
      "### 1. Pandas was created initially to support financial data analysis. \n",
      "### 2. We can easily represent dates, times, periods.. in pandas.\n",
      "### 3. Pandas use TimeStamp class to model dates and times.\n",
      "### 4. Pandas indexes dates and times using DatetimeIndex"
     ]
    },
    {
     "cell_type": "markdown",
     "metadata": {},
     "source": [
      "## Examples"
     ]
    },
    {
     "cell_type": "markdown",
     "metadata": {},
     "source": [
      "### 1. Let's create Datetimeindex"
     ]
    },
    {
     "cell_type": "code",
     "collapsed": false,
     "input": [
      "import datetime\n",
      "dates = [datetime.datetime(2016, 8, 10), datetime.datetime(2016,8,11), datetime.datetime(2016,8,12)]"
     ],
     "language": "python",
     "metadata": {},
     "outputs": [],
     "prompt_number": 2
    },
    {
     "cell_type": "code",
     "collapsed": false,
     "input": [
      "datetime_index = pd.DatetimeIndex(dates)"
     ],
     "language": "python",
     "metadata": {},
     "outputs": [],
     "prompt_number": 6
    },
    {
     "cell_type": "code",
     "collapsed": false,
     "input": [
      "# Look timestamp uses NumPy's dtype 'datetime64'\n",
      "datetime_index"
     ],
     "language": "python",
     "metadata": {},
     "outputs": [
      {
       "metadata": {},
       "output_type": "pyout",
       "prompt_number": 8,
       "text": [
        "DatetimeIndex(['2016-08-10', '2016-08-11', '2016-08-12'], dtype='datetime64[ns]', freq=None)"
       ]
      }
     ],
     "prompt_number": 8
    },
    {
     "cell_type": "markdown",
     "metadata": {},
     "source": [
      "### 2. Series treat datetime object as a DatetimeIndex index "
     ]
    },
    {
     "cell_type": "code",
     "collapsed": false,
     "input": [
      "datetime_series = pd.Series([2,3,7], dates)"
     ],
     "language": "python",
     "metadata": {},
     "outputs": [],
     "prompt_number": 10
    },
    {
     "cell_type": "code",
     "collapsed": false,
     "input": [
      "datetime_series"
     ],
     "language": "python",
     "metadata": {},
     "outputs": [
      {
       "metadata": {},
       "output_type": "pyout",
       "prompt_number": 11,
       "text": [
        "2016-08-10    2\n",
        "2016-08-11    3\n",
        "2016-08-12    7\n",
        "dtype: int64"
       ]
      }
     ],
     "prompt_number": 11
    },
    {
     "cell_type": "markdown",
     "metadata": {},
     "source": [
      "### 3. Mixed type of data conversion to DatetimeIndex"
     ]
    },
    {
     "cell_type": "code",
     "collapsed": false,
     "input": [
      "# Let's create a list of mixed dates and a None value\n",
      "# Let NAT = NOT-A-TIME\n",
      "mixed_dates_list = ['Aug 5, 2016', None, '2014-08-02','2014.8.3']\n",
      "converted_datetimein = pd.to_datetime(mixed_dates_list)\n",
      "converted_datetimein"
     ],
     "language": "python",
     "metadata": {},
     "outputs": [
      {
       "metadata": {},
       "output_type": "pyout",
       "prompt_number": 23,
       "text": [
        "DatetimeIndex(['2016-08-05', 'NaT', '2014-08-02', '2014-08-03'], dtype='datetime64[ns]', freq=None)"
       ]
      }
     ],
     "prompt_number": 23
    },
    {
     "cell_type": "code",
     "collapsed": false,
     "input": [
      "# what if not a date type is present in the list?\n",
      "# converted_datetimein2 is erroreous\n",
      "# We can apply errors='coerce' for forceful conversion\n",
      "\n",
      "mixed_not_dates_list = ['Aug 4, 2016', 'Sijan', '2014-08-02','2014.8.3']\n",
      "# converted_datetimein2 = pd.to_datetime(mixed_not_dates_list)\n",
      "# converted_datetimein2\n",
      "converted_datetimein3 = pd.to_datetime(mixed_not_dates_list, errors='coerce')\n",
      "converted_datetimein3"
     ],
     "language": "python",
     "metadata": {},
     "outputs": [
      {
       "metadata": {},
       "output_type": "pyout",
       "prompt_number": 22,
       "text": [
        "DatetimeIndex(['2016-08-04', 'NaT', '2014-08-02', '2014-08-03'], dtype='datetime64[ns]', freq=None)"
       ]
      }
     ],
     "prompt_number": 22
    },
    {
     "cell_type": "markdown",
     "metadata": {},
     "source": [
      "### 4. Pandas takes first value of a date string as a month value by default. [ Use dayfirst=True for a date string with first value is a day]"
     ]
    },
    {
     "cell_type": "code",
     "collapsed": false,
     "input": [
      "month_first_date = pd.to_datetime(['7/10/2016'])\n",
      "# What if the first value of a date string is day?\n",
      "day_first_date = pd.to_datetime(['10/7/2016'], dayfirst=True)\n",
      "\n",
      "month_first_date, day_first_date"
     ],
     "language": "python",
     "metadata": {},
     "outputs": [
      {
       "metadata": {},
       "output_type": "pyout",
       "prompt_number": 26,
       "text": [
        "(DatetimeIndex(['2016-07-10'], dtype='datetime64[ns]', freq=None),\n",
        " DatetimeIndex(['2016-07-10'], dtype='datetime64[ns]', freq=None))"
       ]
      }
     ],
     "prompt_number": 26
    },
    {
     "cell_type": "markdown",
     "metadata": {},
     "source": [
      "### 5. A range of DatetimeIndex can be created"
     ]
    },
    {
     "cell_type": "code",
     "collapsed": false,
     "input": [
      "date_range = pd.date_range('8/18/2016', periods=10)"
     ],
     "language": "python",
     "metadata": {},
     "outputs": [],
     "prompt_number": 27
    },
    {
     "cell_type": "code",
     "collapsed": false,
     "input": [
      "date_range"
     ],
     "language": "python",
     "metadata": {},
     "outputs": [
      {
       "metadata": {},
       "output_type": "pyout",
       "prompt_number": 28,
       "text": [
        "DatetimeIndex(['2016-08-18', '2016-08-19', '2016-08-20', '2016-08-21',\n",
        "               '2016-08-22', '2016-08-23', '2016-08-24', '2016-08-25',\n",
        "               '2016-08-26', '2016-08-27'],\n",
        "              dtype='datetime64[ns]', freq='D')"
       ]
      }
     ],
     "prompt_number": 28
    },
    {
     "cell_type": "code",
     "collapsed": false,
     "input": [
      "my_data = pd.Series(np.random.randn(len(date_range)), date_range)"
     ],
     "language": "python",
     "metadata": {},
     "outputs": [],
     "prompt_number": 30
    },
    {
     "cell_type": "code",
     "collapsed": false,
     "input": [
      "my_data"
     ],
     "language": "python",
     "metadata": {},
     "outputs": [
      {
       "metadata": {},
       "output_type": "pyout",
       "prompt_number": 31,
       "text": [
        "2016-08-18    0.323091\n",
        "2016-08-19   -0.251491\n",
        "2016-08-20   -0.974542\n",
        "2016-08-21   -0.059621\n",
        "2016-08-22    0.820171\n",
        "2016-08-23   -0.109283\n",
        "2016-08-24   -2.853173\n",
        "2016-08-25   -1.255847\n",
        "2016-08-26   -0.327045\n",
        "2016-08-27    1.701460\n",
        "Freq: D, dtype: float64"
       ]
      }
     ],
     "prompt_number": 31
    },
    {
     "cell_type": "markdown",
     "metadata": {},
     "source": [
      "### 6. Index operations on DatetimeIndex (Slicing and selection)\n",
      "\n",
      "#### For this purpose, we will be using Google Finance data and observe\n",
      "#### Please install pandas data_reader ( https://github.com/pydata/pandas-datareader )"
     ]
    },
    {
     "cell_type": "code",
     "collapsed": false,
     "input": [
      "import pandas_datareader.data as web\n",
      "\n",
      "start_date = datetime.datetime(2016,6,1)\n",
      "end_date = datetime.datetime(2016,7,31)\n",
      "google_finace = web.DataReader(\"F\", 'google', start_date, end_date)\n",
      "google_finace.head()"
     ],
     "language": "python",
     "metadata": {},
     "outputs": [
      {
       "html": [
        "<div style=\"max-width:1500px;overflow:auto;\">\n",
        "<table border=\"1\" class=\"dataframe\">\n",
        "  <thead>\n",
        "    <tr style=\"text-align: right;\">\n",
        "      <th></th>\n",
        "      <th>Open</th>\n",
        "      <th>High</th>\n",
        "      <th>Low</th>\n",
        "      <th>Close</th>\n",
        "      <th>Volume</th>\n",
        "    </tr>\n",
        "    <tr>\n",
        "      <th>Date</th>\n",
        "      <th></th>\n",
        "      <th></th>\n",
        "      <th></th>\n",
        "      <th></th>\n",
        "      <th></th>\n",
        "    </tr>\n",
        "  </thead>\n",
        "  <tbody>\n",
        "    <tr>\n",
        "      <th>2016-06-01</th>\n",
        "      <td>13.43</td>\n",
        "      <td>13.44</td>\n",
        "      <td>12.97</td>\n",
        "      <td>13.11</td>\n",
        "      <td>58219591</td>\n",
        "    </tr>\n",
        "    <tr>\n",
        "      <th>2016-06-02</th>\n",
        "      <td>13.09</td>\n",
        "      <td>13.32</td>\n",
        "      <td>13.04</td>\n",
        "      <td>13.21</td>\n",
        "      <td>41614613</td>\n",
        "    </tr>\n",
        "    <tr>\n",
        "      <th>2016-06-03</th>\n",
        "      <td>13.14</td>\n",
        "      <td>13.14</td>\n",
        "      <td>12.90</td>\n",
        "      <td>13.04</td>\n",
        "      <td>39850658</td>\n",
        "    </tr>\n",
        "    <tr>\n",
        "      <th>2016-06-06</th>\n",
        "      <td>13.08</td>\n",
        "      <td>13.21</td>\n",
        "      <td>13.04</td>\n",
        "      <td>13.18</td>\n",
        "      <td>25588674</td>\n",
        "    </tr>\n",
        "    <tr>\n",
        "      <th>2016-06-07</th>\n",
        "      <td>13.23</td>\n",
        "      <td>13.45</td>\n",
        "      <td>13.18</td>\n",
        "      <td>13.38</td>\n",
        "      <td>27656945</td>\n",
        "    </tr>\n",
        "  </tbody>\n",
        "</table>\n",
        "</div>"
       ],
       "metadata": {},
       "output_type": "pyout",
       "prompt_number": 8,
       "text": [
        "             Open   High    Low  Close    Volume\n",
        "Date                                            \n",
        "2016-06-01  13.43  13.44  12.97  13.11  58219591\n",
        "2016-06-02  13.09  13.32  13.04  13.21  41614613\n",
        "2016-06-03  13.14  13.14  12.90  13.04  39850658\n",
        "2016-06-06  13.08  13.21  13.04  13.18  25588674\n",
        "2016-06-07  13.23  13.45  13.18  13.38  27656945"
       ]
      }
     ],
     "prompt_number": 8
    },
    {
     "cell_type": "code",
     "collapsed": false,
     "input": [
      "# slice data between day 10 to 20\n",
      "google_finace['2016-07-10' : '2016-07-20']"
     ],
     "language": "python",
     "metadata": {},
     "outputs": [
      {
       "html": [
        "<div style=\"max-width:1500px;overflow:auto;\">\n",
        "<table border=\"1\" class=\"dataframe\">\n",
        "  <thead>\n",
        "    <tr style=\"text-align: right;\">\n",
        "      <th></th>\n",
        "      <th>Open</th>\n",
        "      <th>High</th>\n",
        "      <th>Low</th>\n",
        "      <th>Close</th>\n",
        "      <th>Volume</th>\n",
        "    </tr>\n",
        "    <tr>\n",
        "      <th>Date</th>\n",
        "      <th></th>\n",
        "      <th></th>\n",
        "      <th></th>\n",
        "      <th></th>\n",
        "      <th></th>\n",
        "    </tr>\n",
        "  </thead>\n",
        "  <tbody>\n",
        "    <tr>\n",
        "      <th>2016-07-11</th>\n",
        "      <td>13.17</td>\n",
        "      <td>13.33</td>\n",
        "      <td>13.13</td>\n",
        "      <td>13.27</td>\n",
        "      <td>28626257</td>\n",
        "    </tr>\n",
        "    <tr>\n",
        "      <th>2016-07-12</th>\n",
        "      <td>13.38</td>\n",
        "      <td>13.54</td>\n",
        "      <td>13.38</td>\n",
        "      <td>13.45</td>\n",
        "      <td>31320103</td>\n",
        "    </tr>\n",
        "    <tr>\n",
        "      <th>2016-07-13</th>\n",
        "      <td>13.49</td>\n",
        "      <td>13.51</td>\n",
        "      <td>13.31</td>\n",
        "      <td>13.48</td>\n",
        "      <td>26779837</td>\n",
        "    </tr>\n",
        "    <tr>\n",
        "      <th>2016-07-14</th>\n",
        "      <td>13.57</td>\n",
        "      <td>13.70</td>\n",
        "      <td>13.55</td>\n",
        "      <td>13.59</td>\n",
        "      <td>31802953</td>\n",
        "    </tr>\n",
        "    <tr>\n",
        "      <th>2016-07-15</th>\n",
        "      <td>13.63</td>\n",
        "      <td>13.67</td>\n",
        "      <td>13.53</td>\n",
        "      <td>13.57</td>\n",
        "      <td>19546317</td>\n",
        "    </tr>\n",
        "    <tr>\n",
        "      <th>2016-07-18</th>\n",
        "      <td>13.56</td>\n",
        "      <td>13.68</td>\n",
        "      <td>13.42</td>\n",
        "      <td>13.65</td>\n",
        "      <td>22545937</td>\n",
        "    </tr>\n",
        "    <tr>\n",
        "      <th>2016-07-19</th>\n",
        "      <td>13.56</td>\n",
        "      <td>13.72</td>\n",
        "      <td>13.50</td>\n",
        "      <td>13.65</td>\n",
        "      <td>26183383</td>\n",
        "    </tr>\n",
        "    <tr>\n",
        "      <th>2016-07-20</th>\n",
        "      <td>13.61</td>\n",
        "      <td>13.78</td>\n",
        "      <td>13.56</td>\n",
        "      <td>13.74</td>\n",
        "      <td>22588923</td>\n",
        "    </tr>\n",
        "  </tbody>\n",
        "</table>\n",
        "</div>"
       ],
       "metadata": {},
       "output_type": "pyout",
       "prompt_number": 9,
       "text": [
        "             Open   High    Low  Close    Volume\n",
        "Date                                            \n",
        "2016-07-11  13.17  13.33  13.13  13.27  28626257\n",
        "2016-07-12  13.38  13.54  13.38  13.45  31320103\n",
        "2016-07-13  13.49  13.51  13.31  13.48  26779837\n",
        "2016-07-14  13.57  13.70  13.55  13.59  31802953\n",
        "2016-07-15  13.63  13.67  13.53  13.57  19546317\n",
        "2016-07-18  13.56  13.68  13.42  13.65  22545937\n",
        "2016-07-19  13.56  13.72  13.50  13.65  26183383\n",
        "2016-07-20  13.61  13.78  13.56  13.74  22588923"
       ]
      }
     ],
     "prompt_number": 9
    },
    {
     "cell_type": "code",
     "collapsed": false,
     "input": [
      "# If you want to get a specific data item (row), you can specify the datetime index value using .loc.\n",
      "# The result is a Series where the index labels are the column names\n",
      "eleventh_day = google_finace.loc['2016-07-11']\n",
      "eleventh_day"
     ],
     "language": "python",
     "metadata": {},
     "outputs": [
      {
       "metadata": {},
       "output_type": "pyout",
       "prompt_number": 42,
       "text": [
        "Open            13.17\n",
        "High            13.33\n",
        "Low             13.13\n",
        "Close           13.27\n",
        "Volume    28626257.00\n",
        "Name: 2016-07-11 00:00:00, dtype: float64"
       ]
      }
     ],
     "prompt_number": 42
    },
    {
     "cell_type": "code",
     "collapsed": false,
     "input": [
      "eleventh_day['Open']"
     ],
     "language": "python",
     "metadata": {},
     "outputs": [
      {
       "metadata": {},
       "output_type": "pyout",
       "prompt_number": 43,
       "text": [
        "13.17"
       ]
      }
     ],
     "prompt_number": 43
    },
    {
     "cell_type": "code",
     "collapsed": false,
     "input": [
      "# Select data by the month value only : let's select data from June only\n",
      "google_finace['2016-06'].head()"
     ],
     "language": "python",
     "metadata": {},
     "outputs": [
      {
       "html": [
        "<div style=\"max-width:1500px;overflow:auto;\">\n",
        "<table border=\"1\" class=\"dataframe\">\n",
        "  <thead>\n",
        "    <tr style=\"text-align: right;\">\n",
        "      <th></th>\n",
        "      <th>Open</th>\n",
        "      <th>High</th>\n",
        "      <th>Low</th>\n",
        "      <th>Close</th>\n",
        "      <th>Volume</th>\n",
        "    </tr>\n",
        "    <tr>\n",
        "      <th>Date</th>\n",
        "      <th></th>\n",
        "      <th></th>\n",
        "      <th></th>\n",
        "      <th></th>\n",
        "      <th></th>\n",
        "    </tr>\n",
        "  </thead>\n",
        "  <tbody>\n",
        "    <tr>\n",
        "      <th>2016-06-01</th>\n",
        "      <td>13.43</td>\n",
        "      <td>13.44</td>\n",
        "      <td>12.97</td>\n",
        "      <td>13.11</td>\n",
        "      <td>58219591</td>\n",
        "    </tr>\n",
        "    <tr>\n",
        "      <th>2016-06-02</th>\n",
        "      <td>13.09</td>\n",
        "      <td>13.32</td>\n",
        "      <td>13.04</td>\n",
        "      <td>13.21</td>\n",
        "      <td>41614613</td>\n",
        "    </tr>\n",
        "    <tr>\n",
        "      <th>2016-06-03</th>\n",
        "      <td>13.14</td>\n",
        "      <td>13.14</td>\n",
        "      <td>12.90</td>\n",
        "      <td>13.04</td>\n",
        "      <td>39850658</td>\n",
        "    </tr>\n",
        "    <tr>\n",
        "      <th>2016-06-06</th>\n",
        "      <td>13.08</td>\n",
        "      <td>13.21</td>\n",
        "      <td>13.04</td>\n",
        "      <td>13.18</td>\n",
        "      <td>25588674</td>\n",
        "    </tr>\n",
        "    <tr>\n",
        "      <th>2016-06-07</th>\n",
        "      <td>13.23</td>\n",
        "      <td>13.45</td>\n",
        "      <td>13.18</td>\n",
        "      <td>13.38</td>\n",
        "      <td>27656945</td>\n",
        "    </tr>\n",
        "  </tbody>\n",
        "</table>\n",
        "</div>"
       ],
       "metadata": {},
       "output_type": "pyout",
       "prompt_number": 44,
       "text": [
        "             Open   High    Low  Close    Volume\n",
        "Date                                            \n",
        "2016-06-01  13.43  13.44  12.97  13.11  58219591\n",
        "2016-06-02  13.09  13.32  13.04  13.21  41614613\n",
        "2016-06-03  13.14  13.14  12.90  13.04  39850658\n",
        "2016-06-06  13.08  13.21  13.04  13.18  25588674\n",
        "2016-06-07  13.23  13.45  13.18  13.38  27656945"
       ]
      }
     ],
     "prompt_number": 44
    },
    {
     "cell_type": "code",
     "collapsed": false,
     "input": [],
     "language": "python",
     "metadata": {},
     "outputs": []
    }
   ],
   "metadata": {}
  }
 ]
}